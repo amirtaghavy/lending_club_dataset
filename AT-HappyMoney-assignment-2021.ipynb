{
 "cells": [
  {
   "cell_type": "markdown",
   "id": "3f26a632-3898-46ab-b54f-1c5957715d9c",
   "metadata": {},
   "source": [
    "# The Lending Club Dataset\n",
    "***Happy Money Data Science Assessment***\n",
    "\n",
    "## Tasks and Objective:\n",
    "- **Task A: KPI Reporting**\n",
    "    - Objective A.1. Determine monthly loan volume & monthly average loan size in USD.\n",
    "    - Objective A.2. Determine the charge-off rates by loan grade.\n",
    "    - Objective A.3. Identify any statistically significant difference in loan charge off rates.\n",
    "    - Objective A.4. Determine if the interest rate charged by the Lending Club is consistent with the risk level?\n",
    "\n",
    "\n",
    "- **Task B: Loan Charge-Off Modeling**\n",
    "    - Objective B.1. Perform the necessary data curation, specifically with respect to (a) missing and (b) erroneous values\n",
    "    - Objective B.2. Build a *Charge-Off prediction model*, demonstrate important steps and discuss key features.\n",
    "\n",
    "\n",
    "- **Task C: Discussing Fundamentals**\n",
    "    - Objective C. Briefly explain *Logistic Regression* to a (a) techincal and (b) lay audience.\n",
    "\n",
    "## Disclaimer: \n",
    " - All the data for this problem was provided by Happy Money [G-Drive](https://drive.google.com/drive/folders/1pf8P-omhEL7VZDI-LJMHP7h0aNuVRM71). \n",
    " - This work was done by *Amir A. Taghavey* as an assignment prior to the full interview with **Happy Money**."
   ]
  },
  {
   "cell_type": "code",
   "execution_count": 39,
   "id": "12843949-450d-4b3f-94d1-5a31a870605a",
   "metadata": {},
   "outputs": [],
   "source": [
    "# importing necessary libraries\n",
    "import numpy as np\n",
    "import pandas as pd\n",
    "import re\n",
    "from datetime import datetime, date\n",
    "from IPython import display\n",
    "import dill"
   ]
  },
  {
   "cell_type": "code",
   "execution_count": 89,
   "id": "2bef3d7e-2093-44c4-9135-38deff20bb41",
   "metadata": {},
   "outputs": [],
   "source": [
    "# Loading the Lending Club dataset\n",
    "fname = 'LoanStats_2015_subset.csv'\n",
    "with open(fname, 'r') as f:\n",
    "    df = pd.read_csv(f, low_memory=False)"
   ]
  },
  {
   "cell_type": "markdown",
   "id": "8697646e-5b9d-4fe0-a8e8-191d71d5cbbc",
   "metadata": {},
   "source": [
    "## Exploratory Analysis"
   ]
  },
  {
   "cell_type": "code",
   "execution_count": 92,
   "id": "2f134a2f-07e2-4a81-aec0-835114308842",
   "metadata": {},
   "outputs": [
    {
     "name": "stdout",
     "output_type": "stream",
     "text": [
      "<class 'pandas.core.frame.DataFrame'>\n",
      "RangeIndex: 421097 entries, 0 to 421096\n",
      "Data columns (total 105 columns):\n",
      " #    Column                               Dtype  \n",
      "---   ------                               -----  \n",
      " 0    acc_now_delinq                       float64\n",
      " 1    acc_open_past_24mths                 float64\n",
      " 2    addr_state                           object \n",
      " 3    all_util                             float64\n",
      " 4    annual_inc                           float64\n",
      " 5    annual_inc_joint                     float64\n",
      " 6    application_type                     object \n",
      " 7    avg_cur_bal                          float64\n",
      " 8    bc_open_to_buy                       float64\n",
      " 9    bc_util                              float64\n",
      " 10   chargeoff_within_12_mths             float64\n",
      " 11   collections_12_mths_ex_med           float64\n",
      " 12   delinq_2yrs                          float64\n",
      " 13   delinq_amnt                          float64\n",
      " 14   desc                                 object \n",
      " 15   dti                                  float64\n",
      " 16   dti_joint                            float64\n",
      " 17   earliest_cr_line                     object \n",
      " 18   emp_length                           object \n",
      " 19   emp_title                            object \n",
      " 20   funded_amnt                          float64\n",
      " 21   funded_amnt_inv                      float64\n",
      " 22   grade                                object \n",
      " 23   home_ownership                       object \n",
      " 24   id                                   object \n",
      " 25   il_util                              float64\n",
      " 26   initial_list_status                  object \n",
      " 27   inq_fi                               float64\n",
      " 28   inq_last_12m                         float64\n",
      " 29   inq_last_6mths                       float64\n",
      " 30   installment                          float64\n",
      " 31   int_rate                             object \n",
      " 32   issue_d                              object \n",
      " 33   loan_amnt                            float64\n",
      " 34   loan_status                          object \n",
      " 35   max_bal_bc                           float64\n",
      " 36   member_id                            float64\n",
      " 37   mo_sin_old_il_acct                   float64\n",
      " 38   mo_sin_old_rev_tl_op                 float64\n",
      " 39   mo_sin_rcnt_rev_tl_op                float64\n",
      " 40   mo_sin_rcnt_tl                       float64\n",
      " 41   mort_acc                             float64\n",
      " 42   mths_since_last_delinq               float64\n",
      " 43   mths_since_last_major_derog          float64\n",
      " 44   mths_since_last_record               float64\n",
      " 45   mths_since_rcnt_il                   float64\n",
      " 46   mths_since_recent_bc                 float64\n",
      " 47   mths_since_recent_bc_dlq             float64\n",
      " 48   mths_since_recent_inq                float64\n",
      " 49   mths_since_recent_revol_delinq       float64\n",
      " 50   num_accts_ever_120_pd                float64\n",
      " 51   num_actv_bc_tl                       float64\n",
      " 52   num_actv_rev_tl                      float64\n",
      " 53   num_bc_sats                          float64\n",
      " 54   num_bc_tl                            float64\n",
      " 55   num_il_tl                            float64\n",
      " 56   num_op_rev_tl                        float64\n",
      " 57   num_rev_accts                        float64\n",
      " 58   num_rev_tl_bal_gt_0                  float64\n",
      " 59   num_sats                             float64\n",
      " 60   num_tl_120dpd_2m                     float64\n",
      " 61   num_tl_30dpd                         float64\n",
      " 62   num_tl_90g_dpd_24m                   float64\n",
      " 63   num_tl_op_past_12m                   float64\n",
      " 64   open_acc                             float64\n",
      " 65   open_acc_6m                          float64\n",
      " 66   open_il_12m                          float64\n",
      " 67   open_il_24m                          float64\n",
      " 68   open_act_il                          float64\n",
      " 69   open_rv_12m                          float64\n",
      " 70   open_rv_24m                          float64\n",
      " 71   pct_tl_nvr_dlq                       float64\n",
      " 72   percent_bc_gt_75                     float64\n",
      " 73   policy_code                          float64\n",
      " 74   pub_rec                              float64\n",
      " 75   pub_rec_bankruptcies                 float64\n",
      " 76   purpose                              object \n",
      " 77   revol_bal                            float64\n",
      " 78   revol_util                           object \n",
      " 79   sub_grade                            object \n",
      " 80   tax_liens                            float64\n",
      " 81   term                                 object \n",
      " 82   title                                object \n",
      " 83   tot_cur_bal                          float64\n",
      " 84   tot_hi_cred_lim                      float64\n",
      " 85   total_acc                            float64\n",
      " 86   total_bal_ex_mort                    float64\n",
      " 87   total_bal_il                         float64\n",
      " 88   total_bc_limit                       float64\n",
      " 89   total_cu_tl                          float64\n",
      " 90   total_il_high_credit_limit           float64\n",
      " 91   total_rev_hi_lim                     float64\n",
      " 92   verification_status                  object \n",
      " 93   zip_code                             object \n",
      " 94   revol_bal_joint                      float64\n",
      " 95   sec_app_earliest_cr_line             float64\n",
      " 96   sec_app_inq_last_6mths               float64\n",
      " 97   sec_app_mort_acc                     float64\n",
      " 98   sec_app_open_acc                     float64\n",
      " 99   sec_app_revol_util                   float64\n",
      " 100  sec_app_open_act_il                  float64\n",
      " 101  sec_app_num_rev_accts                float64\n",
      " 102  sec_app_chargeoff_within_12_mths     float64\n",
      " 103  sec_app_collections_12_mths_ex_med   float64\n",
      " 104  sec_app_mths_since_last_major_derog  float64\n",
      "dtypes: float64(85), object(20)\n",
      "memory usage: 337.3+ MB\n"
     ]
    }
   ],
   "source": [
    "df.info(verbose=True)"
   ]
  },
  {
   "cell_type": "code",
   "execution_count": 93,
   "id": "6525bd7a-0395-41e9-a947-167b46aa35b4",
   "metadata": {},
   "outputs": [
    {
     "data": {
      "text/html": [
       "<div>\n",
       "<style scoped>\n",
       "    .dataframe tbody tr th:only-of-type {\n",
       "        vertical-align: middle;\n",
       "    }\n",
       "\n",
       "    .dataframe tbody tr th {\n",
       "        vertical-align: top;\n",
       "    }\n",
       "\n",
       "    .dataframe thead th {\n",
       "        text-align: right;\n",
       "    }\n",
       "</style>\n",
       "<table border=\"1\" class=\"dataframe\">\n",
       "  <thead>\n",
       "    <tr style=\"text-align: right;\">\n",
       "      <th></th>\n",
       "      <th>acc_now_delinq</th>\n",
       "      <th>acc_open_past_24mths</th>\n",
       "      <th>all_util</th>\n",
       "      <th>annual_inc</th>\n",
       "      <th>annual_inc_joint</th>\n",
       "      <th>avg_cur_bal</th>\n",
       "      <th>bc_open_to_buy</th>\n",
       "      <th>bc_util</th>\n",
       "      <th>chargeoff_within_12_mths</th>\n",
       "      <th>collections_12_mths_ex_med</th>\n",
       "      <th>...</th>\n",
       "      <th>tax_liens</th>\n",
       "      <th>tot_cur_bal</th>\n",
       "      <th>tot_hi_cred_lim</th>\n",
       "      <th>total_acc</th>\n",
       "      <th>total_bal_ex_mort</th>\n",
       "      <th>total_bal_il</th>\n",
       "      <th>total_bc_limit</th>\n",
       "      <th>total_cu_tl</th>\n",
       "      <th>total_il_high_credit_limit</th>\n",
       "      <th>total_rev_hi_lim</th>\n",
       "    </tr>\n",
       "  </thead>\n",
       "  <tbody>\n",
       "    <tr>\n",
       "      <th>count</th>\n",
       "      <td>421095.000000</td>\n",
       "      <td>421095.00000</td>\n",
       "      <td>21372.000000</td>\n",
       "      <td>4.210950e+05</td>\n",
       "      <td>511.000000</td>\n",
       "      <td>421095.000000</td>\n",
       "      <td>417132.000000</td>\n",
       "      <td>416868.000000</td>\n",
       "      <td>421095.000000</td>\n",
       "      <td>421095.000000</td>\n",
       "      <td>...</td>\n",
       "      <td>421095.000000</td>\n",
       "      <td>4.210950e+05</td>\n",
       "      <td>4.210950e+05</td>\n",
       "      <td>421095.000000</td>\n",
       "      <td>4.210950e+05</td>\n",
       "      <td>21372.000000</td>\n",
       "      <td>421095.000000</td>\n",
       "      <td>21372.000000</td>\n",
       "      <td>4.210950e+05</td>\n",
       "      <td>4.210950e+05</td>\n",
       "    </tr>\n",
       "    <tr>\n",
       "      <th>mean</th>\n",
       "      <td>0.006087</td>\n",
       "      <td>4.66500</td>\n",
       "      <td>60.881995</td>\n",
       "      <td>7.696561e+04</td>\n",
       "      <td>109981.011585</td>\n",
       "      <td>13104.784721</td>\n",
       "      <td>9636.063992</td>\n",
       "      <td>62.228136</td>\n",
       "      <td>0.010420</td>\n",
       "      <td>0.020240</td>\n",
       "      <td>...</td>\n",
       "      <td>0.064556</td>\n",
       "      <td>1.400755e+05</td>\n",
       "      <td>1.734070e+05</td>\n",
       "      <td>25.493468</td>\n",
       "      <td>5.222199e+04</td>\n",
       "      <td>36552.811389</td>\n",
       "      <td>21958.208958</td>\n",
       "      <td>1.537058</td>\n",
       "      <td>4.347865e+04</td>\n",
       "      <td>3.365771e+04</td>\n",
       "    </tr>\n",
       "    <tr>\n",
       "      <th>std</th>\n",
       "      <td>0.086482</td>\n",
       "      <td>3.19538</td>\n",
       "      <td>20.013842</td>\n",
       "      <td>7.394996e+04</td>\n",
       "      <td>52730.379847</td>\n",
       "      <td>15671.803897</td>\n",
       "      <td>14774.166134</td>\n",
       "      <td>27.576378</td>\n",
       "      <td>0.117019</td>\n",
       "      <td>0.157506</td>\n",
       "      <td>...</td>\n",
       "      <td>0.444231</td>\n",
       "      <td>1.552696e+05</td>\n",
       "      <td>1.756722e+05</td>\n",
       "      <td>12.097200</td>\n",
       "      <td>4.907494e+04</td>\n",
       "      <td>43103.833619</td>\n",
       "      <td>21840.371112</td>\n",
       "      <td>2.723339</td>\n",
       "      <td>4.394271e+04</td>\n",
       "      <td>3.766404e+04</td>\n",
       "    </tr>\n",
       "    <tr>\n",
       "      <th>min</th>\n",
       "      <td>0.000000</td>\n",
       "      <td>0.00000</td>\n",
       "      <td>0.000000</td>\n",
       "      <td>0.000000e+00</td>\n",
       "      <td>17950.000000</td>\n",
       "      <td>0.000000</td>\n",
       "      <td>0.000000</td>\n",
       "      <td>0.000000</td>\n",
       "      <td>0.000000</td>\n",
       "      <td>0.000000</td>\n",
       "      <td>...</td>\n",
       "      <td>0.000000</td>\n",
       "      <td>0.000000e+00</td>\n",
       "      <td>2.500000e+03</td>\n",
       "      <td>4.000000</td>\n",
       "      <td>0.000000e+00</td>\n",
       "      <td>0.000000</td>\n",
       "      <td>0.000000</td>\n",
       "      <td>0.000000</td>\n",
       "      <td>0.000000e+00</td>\n",
       "      <td>0.000000e+00</td>\n",
       "    </tr>\n",
       "    <tr>\n",
       "      <th>25%</th>\n",
       "      <td>0.000000</td>\n",
       "      <td>2.00000</td>\n",
       "      <td>48.000000</td>\n",
       "      <td>4.600000e+04</td>\n",
       "      <td>76032.500000</td>\n",
       "      <td>3199.000000</td>\n",
       "      <td>1345.000000</td>\n",
       "      <td>41.500000</td>\n",
       "      <td>0.000000</td>\n",
       "      <td>0.000000</td>\n",
       "      <td>...</td>\n",
       "      <td>0.000000</td>\n",
       "      <td>3.103900e+04</td>\n",
       "      <td>5.090900e+04</td>\n",
       "      <td>17.000000</td>\n",
       "      <td>2.259850e+04</td>\n",
       "      <td>10251.500000</td>\n",
       "      <td>7800.000000</td>\n",
       "      <td>0.000000</td>\n",
       "      <td>1.548150e+04</td>\n",
       "      <td>1.440000e+04</td>\n",
       "    </tr>\n",
       "    <tr>\n",
       "      <th>50%</th>\n",
       "      <td>0.000000</td>\n",
       "      <td>4.00000</td>\n",
       "      <td>62.000000</td>\n",
       "      <td>6.500000e+04</td>\n",
       "      <td>101771.000000</td>\n",
       "      <td>7262.000000</td>\n",
       "      <td>4366.000000</td>\n",
       "      <td>65.800000</td>\n",
       "      <td>0.000000</td>\n",
       "      <td>0.000000</td>\n",
       "      <td>...</td>\n",
       "      <td>0.000000</td>\n",
       "      <td>7.972900e+04</td>\n",
       "      <td>1.114050e+05</td>\n",
       "      <td>24.000000</td>\n",
       "      <td>3.959600e+04</td>\n",
       "      <td>24684.500000</td>\n",
       "      <td>15200.000000</td>\n",
       "      <td>0.000000</td>\n",
       "      <td>3.297000e+04</td>\n",
       "      <td>2.460000e+04</td>\n",
       "    </tr>\n",
       "    <tr>\n",
       "      <th>75%</th>\n",
       "      <td>0.000000</td>\n",
       "      <td>6.00000</td>\n",
       "      <td>75.000000</td>\n",
       "      <td>9.169050e+04</td>\n",
       "      <td>132800.000000</td>\n",
       "      <td>17974.500000</td>\n",
       "      <td>11574.000000</td>\n",
       "      <td>86.500000</td>\n",
       "      <td>0.000000</td>\n",
       "      <td>0.000000</td>\n",
       "      <td>...</td>\n",
       "      <td>0.000000</td>\n",
       "      <td>2.074750e+05</td>\n",
       "      <td>2.496290e+05</td>\n",
       "      <td>32.000000</td>\n",
       "      <td>6.565100e+04</td>\n",
       "      <td>47858.000000</td>\n",
       "      <td>28600.000000</td>\n",
       "      <td>2.000000</td>\n",
       "      <td>5.829900e+04</td>\n",
       "      <td>4.168850e+04</td>\n",
       "    </tr>\n",
       "    <tr>\n",
       "      <th>max</th>\n",
       "      <td>14.000000</td>\n",
       "      <td>64.00000</td>\n",
       "      <td>151.000000</td>\n",
       "      <td>9.500000e+06</td>\n",
       "      <td>500000.000000</td>\n",
       "      <td>555925.000000</td>\n",
       "      <td>559912.000000</td>\n",
       "      <td>318.200000</td>\n",
       "      <td>10.000000</td>\n",
       "      <td>14.000000</td>\n",
       "      <td>...</td>\n",
       "      <td>85.000000</td>\n",
       "      <td>4.447397e+06</td>\n",
       "      <td>9.999999e+06</td>\n",
       "      <td>169.000000</td>\n",
       "      <td>2.921551e+06</td>\n",
       "      <td>878459.000000</td>\n",
       "      <td>834300.000000</td>\n",
       "      <td>35.000000</td>\n",
       "      <td>2.101913e+06</td>\n",
       "      <td>9.999999e+06</td>\n",
       "    </tr>\n",
       "  </tbody>\n",
       "</table>\n",
       "<p>8 rows × 74 columns</p>\n",
       "</div>"
      ],
      "text/plain": [
       "       acc_now_delinq  acc_open_past_24mths      all_util    annual_inc  \\\n",
       "count   421095.000000          421095.00000  21372.000000  4.210950e+05   \n",
       "mean         0.006087               4.66500     60.881995  7.696561e+04   \n",
       "std          0.086482               3.19538     20.013842  7.394996e+04   \n",
       "min          0.000000               0.00000      0.000000  0.000000e+00   \n",
       "25%          0.000000               2.00000     48.000000  4.600000e+04   \n",
       "50%          0.000000               4.00000     62.000000  6.500000e+04   \n",
       "75%          0.000000               6.00000     75.000000  9.169050e+04   \n",
       "max         14.000000              64.00000    151.000000  9.500000e+06   \n",
       "\n",
       "       annual_inc_joint    avg_cur_bal  bc_open_to_buy        bc_util  \\\n",
       "count        511.000000  421095.000000   417132.000000  416868.000000   \n",
       "mean      109981.011585   13104.784721     9636.063992      62.228136   \n",
       "std        52730.379847   15671.803897    14774.166134      27.576378   \n",
       "min        17950.000000       0.000000        0.000000       0.000000   \n",
       "25%        76032.500000    3199.000000     1345.000000      41.500000   \n",
       "50%       101771.000000    7262.000000     4366.000000      65.800000   \n",
       "75%       132800.000000   17974.500000    11574.000000      86.500000   \n",
       "max       500000.000000  555925.000000   559912.000000     318.200000   \n",
       "\n",
       "       chargeoff_within_12_mths  collections_12_mths_ex_med  ...  \\\n",
       "count             421095.000000               421095.000000  ...   \n",
       "mean                   0.010420                    0.020240  ...   \n",
       "std                    0.117019                    0.157506  ...   \n",
       "min                    0.000000                    0.000000  ...   \n",
       "25%                    0.000000                    0.000000  ...   \n",
       "50%                    0.000000                    0.000000  ...   \n",
       "75%                    0.000000                    0.000000  ...   \n",
       "max                   10.000000                   14.000000  ...   \n",
       "\n",
       "           tax_liens   tot_cur_bal  tot_hi_cred_lim      total_acc  \\\n",
       "count  421095.000000  4.210950e+05     4.210950e+05  421095.000000   \n",
       "mean        0.064556  1.400755e+05     1.734070e+05      25.493468   \n",
       "std         0.444231  1.552696e+05     1.756722e+05      12.097200   \n",
       "min         0.000000  0.000000e+00     2.500000e+03       4.000000   \n",
       "25%         0.000000  3.103900e+04     5.090900e+04      17.000000   \n",
       "50%         0.000000  7.972900e+04     1.114050e+05      24.000000   \n",
       "75%         0.000000  2.074750e+05     2.496290e+05      32.000000   \n",
       "max        85.000000  4.447397e+06     9.999999e+06     169.000000   \n",
       "\n",
       "       total_bal_ex_mort   total_bal_il  total_bc_limit   total_cu_tl  \\\n",
       "count       4.210950e+05   21372.000000   421095.000000  21372.000000   \n",
       "mean        5.222199e+04   36552.811389    21958.208958      1.537058   \n",
       "std         4.907494e+04   43103.833619    21840.371112      2.723339   \n",
       "min         0.000000e+00       0.000000        0.000000      0.000000   \n",
       "25%         2.259850e+04   10251.500000     7800.000000      0.000000   \n",
       "50%         3.959600e+04   24684.500000    15200.000000      0.000000   \n",
       "75%         6.565100e+04   47858.000000    28600.000000      2.000000   \n",
       "max         2.921551e+06  878459.000000   834300.000000     35.000000   \n",
       "\n",
       "       total_il_high_credit_limit  total_rev_hi_lim  \n",
       "count                4.210950e+05      4.210950e+05  \n",
       "mean                 4.347865e+04      3.365771e+04  \n",
       "std                  4.394271e+04      3.766404e+04  \n",
       "min                  0.000000e+00      0.000000e+00  \n",
       "25%                  1.548150e+04      1.440000e+04  \n",
       "50%                  3.297000e+04      2.460000e+04  \n",
       "75%                  5.829900e+04      4.168850e+04  \n",
       "max                  2.101913e+06      9.999999e+06  \n",
       "\n",
       "[8 rows x 74 columns]"
      ]
     },
     "execution_count": 93,
     "metadata": {},
     "output_type": "execute_result"
    }
   ],
   "source": [
    "df.iloc[:,:94].describe()"
   ]
  },
  {
   "cell_type": "code",
   "execution_count": 94,
   "id": "80936066-cbb3-486f-a20a-505a0643c5bb",
   "metadata": {},
   "outputs": [
    {
     "data": {
      "text/plain": [
       "acc_now_delinq                         float64\n",
       "acc_open_past_24mths                   float64\n",
       "addr_state                              object\n",
       "all_util                               float64\n",
       "annual_inc                             float64\n",
       "                                        ...   \n",
       "sec_app_open_act_il                    float64\n",
       "sec_app_num_rev_accts                  float64\n",
       "sec_app_chargeoff_within_12_mths       float64\n",
       "sec_app_collections_12_mths_ex_med     float64\n",
       "sec_app_mths_since_last_major_derog    float64\n",
       "Length: 105, dtype: object"
      ]
     },
     "execution_count": 94,
     "metadata": {},
     "output_type": "execute_result"
    }
   ],
   "source": [
    "df.dtypes"
   ]
  },
  {
   "cell_type": "code",
   "execution_count": 95,
   "id": "528f59d9-a090-47ae-b9a0-851d9cd82f8b",
   "metadata": {},
   "outputs": [
    {
     "data": {
      "text/plain": [
       "(421097, 105)"
      ]
     },
     "execution_count": 95,
     "metadata": {},
     "output_type": "execute_result"
    }
   ],
   "source": [
    "df.shape"
   ]
  },
  {
   "cell_type": "code",
   "execution_count": 96,
   "id": "663cca72-c349-4b28-8836-9953a6cd7328",
   "metadata": {},
   "outputs": [
    {
     "data": {
      "text/html": [
       "<div>\n",
       "<style scoped>\n",
       "    .dataframe tbody tr th:only-of-type {\n",
       "        vertical-align: middle;\n",
       "    }\n",
       "\n",
       "    .dataframe tbody tr th {\n",
       "        vertical-align: top;\n",
       "    }\n",
       "\n",
       "    .dataframe thead th {\n",
       "        text-align: right;\n",
       "    }\n",
       "</style>\n",
       "<table border=\"1\" class=\"dataframe\">\n",
       "  <thead>\n",
       "    <tr style=\"text-align: right;\">\n",
       "      <th></th>\n",
       "      <th>acc_now_delinq</th>\n",
       "      <th>acc_open_past_24mths</th>\n",
       "      <th>addr_state</th>\n",
       "      <th>all_util</th>\n",
       "      <th>annual_inc</th>\n",
       "      <th>annual_inc_joint</th>\n",
       "      <th>application_type</th>\n",
       "      <th>avg_cur_bal</th>\n",
       "      <th>bc_open_to_buy</th>\n",
       "      <th>bc_util</th>\n",
       "      <th>...</th>\n",
       "      <th>sec_app_earliest_cr_line</th>\n",
       "      <th>sec_app_inq_last_6mths</th>\n",
       "      <th>sec_app_mort_acc</th>\n",
       "      <th>sec_app_open_acc</th>\n",
       "      <th>sec_app_revol_util</th>\n",
       "      <th>sec_app_open_act_il</th>\n",
       "      <th>sec_app_num_rev_accts</th>\n",
       "      <th>sec_app_chargeoff_within_12_mths</th>\n",
       "      <th>sec_app_collections_12_mths_ex_med</th>\n",
       "      <th>sec_app_mths_since_last_major_derog</th>\n",
       "    </tr>\n",
       "  </thead>\n",
       "  <tbody>\n",
       "    <tr>\n",
       "      <th>0</th>\n",
       "      <td>0.0</td>\n",
       "      <td>8.0</td>\n",
       "      <td>KS</td>\n",
       "      <td>42.0</td>\n",
       "      <td>65000.0</td>\n",
       "      <td>NaN</td>\n",
       "      <td>Individual</td>\n",
       "      <td>10086.0</td>\n",
       "      <td>41055.0</td>\n",
       "      <td>17.1</td>\n",
       "      <td>...</td>\n",
       "      <td>NaN</td>\n",
       "      <td>NaN</td>\n",
       "      <td>NaN</td>\n",
       "      <td>NaN</td>\n",
       "      <td>NaN</td>\n",
       "      <td>NaN</td>\n",
       "      <td>NaN</td>\n",
       "      <td>NaN</td>\n",
       "      <td>NaN</td>\n",
       "      <td>NaN</td>\n",
       "    </tr>\n",
       "    <tr>\n",
       "      <th>1</th>\n",
       "      <td>0.0</td>\n",
       "      <td>1.0</td>\n",
       "      <td>VT</td>\n",
       "      <td>34.0</td>\n",
       "      <td>150000.0</td>\n",
       "      <td>NaN</td>\n",
       "      <td>Individual</td>\n",
       "      <td>61551.0</td>\n",
       "      <td>24661.0</td>\n",
       "      <td>44.0</td>\n",
       "      <td>...</td>\n",
       "      <td>NaN</td>\n",
       "      <td>NaN</td>\n",
       "      <td>NaN</td>\n",
       "      <td>NaN</td>\n",
       "      <td>NaN</td>\n",
       "      <td>NaN</td>\n",
       "      <td>NaN</td>\n",
       "      <td>NaN</td>\n",
       "      <td>NaN</td>\n",
       "      <td>NaN</td>\n",
       "    </tr>\n",
       "    <tr>\n",
       "      <th>2</th>\n",
       "      <td>0.0</td>\n",
       "      <td>8.0</td>\n",
       "      <td>IN</td>\n",
       "      <td>50.0</td>\n",
       "      <td>75000.0</td>\n",
       "      <td>NaN</td>\n",
       "      <td>Individual</td>\n",
       "      <td>7176.0</td>\n",
       "      <td>23476.0</td>\n",
       "      <td>59.9</td>\n",
       "      <td>...</td>\n",
       "      <td>NaN</td>\n",
       "      <td>NaN</td>\n",
       "      <td>NaN</td>\n",
       "      <td>NaN</td>\n",
       "      <td>NaN</td>\n",
       "      <td>NaN</td>\n",
       "      <td>NaN</td>\n",
       "      <td>NaN</td>\n",
       "      <td>NaN</td>\n",
       "      <td>NaN</td>\n",
       "    </tr>\n",
       "    <tr>\n",
       "      <th>3</th>\n",
       "      <td>0.0</td>\n",
       "      <td>7.0</td>\n",
       "      <td>OH</td>\n",
       "      <td>71.0</td>\n",
       "      <td>175000.0</td>\n",
       "      <td>NaN</td>\n",
       "      <td>Individual</td>\n",
       "      <td>51015.0</td>\n",
       "      <td>21569.0</td>\n",
       "      <td>50.3</td>\n",
       "      <td>...</td>\n",
       "      <td>NaN</td>\n",
       "      <td>NaN</td>\n",
       "      <td>NaN</td>\n",
       "      <td>NaN</td>\n",
       "      <td>NaN</td>\n",
       "      <td>NaN</td>\n",
       "      <td>NaN</td>\n",
       "      <td>NaN</td>\n",
       "      <td>NaN</td>\n",
       "      <td>NaN</td>\n",
       "    </tr>\n",
       "    <tr>\n",
       "      <th>4</th>\n",
       "      <td>0.0</td>\n",
       "      <td>1.0</td>\n",
       "      <td>FL</td>\n",
       "      <td>91.0</td>\n",
       "      <td>44000.0</td>\n",
       "      <td>NaN</td>\n",
       "      <td>Individual</td>\n",
       "      <td>19041.0</td>\n",
       "      <td>0.0</td>\n",
       "      <td>102.4</td>\n",
       "      <td>...</td>\n",
       "      <td>NaN</td>\n",
       "      <td>NaN</td>\n",
       "      <td>NaN</td>\n",
       "      <td>NaN</td>\n",
       "      <td>NaN</td>\n",
       "      <td>NaN</td>\n",
       "      <td>NaN</td>\n",
       "      <td>NaN</td>\n",
       "      <td>NaN</td>\n",
       "      <td>NaN</td>\n",
       "    </tr>\n",
       "  </tbody>\n",
       "</table>\n",
       "<p>5 rows × 105 columns</p>\n",
       "</div>"
      ],
      "text/plain": [
       "   acc_now_delinq  acc_open_past_24mths addr_state  all_util  annual_inc  \\\n",
       "0             0.0                   8.0         KS      42.0     65000.0   \n",
       "1             0.0                   1.0         VT      34.0    150000.0   \n",
       "2             0.0                   8.0         IN      50.0     75000.0   \n",
       "3             0.0                   7.0         OH      71.0    175000.0   \n",
       "4             0.0                   1.0         FL      91.0     44000.0   \n",
       "\n",
       "   annual_inc_joint application_type  avg_cur_bal  bc_open_to_buy  bc_util  \\\n",
       "0               NaN       Individual      10086.0         41055.0     17.1   \n",
       "1               NaN       Individual      61551.0         24661.0     44.0   \n",
       "2               NaN       Individual       7176.0         23476.0     59.9   \n",
       "3               NaN       Individual      51015.0         21569.0     50.3   \n",
       "4               NaN       Individual      19041.0             0.0    102.4   \n",
       "\n",
       "   ...  sec_app_earliest_cr_line  sec_app_inq_last_6mths  sec_app_mort_acc  \\\n",
       "0  ...                       NaN                     NaN               NaN   \n",
       "1  ...                       NaN                     NaN               NaN   \n",
       "2  ...                       NaN                     NaN               NaN   \n",
       "3  ...                       NaN                     NaN               NaN   \n",
       "4  ...                       NaN                     NaN               NaN   \n",
       "\n",
       "   sec_app_open_acc sec_app_revol_util  sec_app_open_act_il  \\\n",
       "0               NaN                NaN                  NaN   \n",
       "1               NaN                NaN                  NaN   \n",
       "2               NaN                NaN                  NaN   \n",
       "3               NaN                NaN                  NaN   \n",
       "4               NaN                NaN                  NaN   \n",
       "\n",
       "   sec_app_num_rev_accts sec_app_chargeoff_within_12_mths  \\\n",
       "0                    NaN                              NaN   \n",
       "1                    NaN                              NaN   \n",
       "2                    NaN                              NaN   \n",
       "3                    NaN                              NaN   \n",
       "4                    NaN                              NaN   \n",
       "\n",
       "  sec_app_collections_12_mths_ex_med sec_app_mths_since_last_major_derog  \n",
       "0                                NaN                                 NaN  \n",
       "1                                NaN                                 NaN  \n",
       "2                                NaN                                 NaN  \n",
       "3                                NaN                                 NaN  \n",
       "4                                NaN                                 NaN  \n",
       "\n",
       "[5 rows x 105 columns]"
      ]
     },
     "execution_count": 96,
     "metadata": {},
     "output_type": "execute_result"
    }
   ],
   "source": [
    "df.head()"
   ]
  },
  {
   "cell_type": "code",
   "execution_count": 97,
   "id": "7baa6f03-ceff-4290-aa51-96513824df83",
   "metadata": {},
   "outputs": [
    {
     "data": {
      "text/plain": [
       "array(['Dec-2015', 'Nov-2015', 'Oct-2015', 'Sep-2015', 'Aug-2015',\n",
       "       'Jul-2015', 'Jun-2015', 'May-2015', 'Apr-2015', 'Mar-2015',\n",
       "       'Feb-2015', 'Jan-2015', nan], dtype=object)"
      ]
     },
     "execution_count": 97,
     "metadata": {},
     "output_type": "execute_result"
    }
   ],
   "source": [
    "df.issue_d.unique()"
   ]
  },
  {
   "cell_type": "code",
   "execution_count": 98,
   "id": "b26051d4-7b4b-4ccc-aca3-8a0ebdb887c3",
   "metadata": {},
   "outputs": [
    {
     "data": {
      "text/plain": [
       "(1.0004023482388524, 1.0)"
      ]
     },
     "execution_count": 98,
     "metadata": {},
     "output_type": "execute_result"
    }
   ],
   "source": [
    "df.funded_amnt.sum()/df.funded_amnt_inv.sum(), df.funded_amnt.sum()/df.loan_amnt.sum()"
   ]
  },
  {
   "cell_type": "code",
   "execution_count": 99,
   "id": "0721c441-b904-4ee7-bfdf-660c3bde4d21",
   "metadata": {},
   "outputs": [
    {
     "data": {
      "text/plain": [
       "array(['Fully Paid', 'Current', 'Charged Off', 'Late (16-30 days)',\n",
       "       'Late (31-120 days)', 'In Grace Period', 'Default', nan],\n",
       "      dtype=object)"
      ]
     },
     "execution_count": 99,
     "metadata": {},
     "output_type": "execute_result"
    }
   ],
   "source": [
    "df.loan_status.unique()"
   ]
  },
  {
   "cell_type": "code",
   "execution_count": 100,
   "id": "9c8a90f4-1b28-42b6-8637-d70c44318fa1",
   "metadata": {},
   "outputs": [
    {
     "data": {
      "text/plain": [
       "(4.7494995214879235e-06, 4.7494995214879235e-06)"
      ]
     },
     "execution_count": 100,
     "metadata": {},
     "output_type": "execute_result"
    }
   ],
   "source": [
    "df.loan_status.isna().mean(), df.issue_d.isna().mean()"
   ]
  },
  {
   "cell_type": "code",
   "execution_count": 101,
   "id": "2b3320fe-5715-473d-8e3b-29a200904169",
   "metadata": {},
   "outputs": [],
   "source": [
    "df.dropna(subset=['issue_d'], inplace=True)"
   ]
  },
  {
   "cell_type": "code",
   "execution_count": 102,
   "id": "abdd1ebb-a1f7-4f25-b16d-fba6f6f7da58",
   "metadata": {},
   "outputs": [],
   "source": [
    "# this func converts date strings to datetime objects. This would allow dates to be sorted in a meaningful way.\n",
    "conv_to_date = lambda dt_str: datetime.strptime(dt_str, r'%b-%Y')\n",
    "\n",
    "#this func converts 'num%' string to ffraction of type float\n",
    "conv_to_frac = lambda percent_str: float(str(percent_str).split('%')[0])/100.0"
   ]
  },
  {
   "cell_type": "code",
   "execution_count": 103,
   "id": "87cc2a6d-a404-4024-82d4-ea090b8b4f8a",
   "metadata": {},
   "outputs": [
    {
     "data": {
      "text/plain": [
       "datetime.datetime(2010, 4, 1, 0, 0)"
      ]
     },
     "execution_count": 103,
     "metadata": {},
     "output_type": "execute_result"
    }
   ],
   "source": [
    "conv_to_date('Apr-2010')"
   ]
  },
  {
   "cell_type": "code",
   "execution_count": 104,
   "id": "a5b71b78-98a0-4e3a-b801-2ea87c339b20",
   "metadata": {},
   "outputs": [
    {
     "data": {
      "text/plain": [
       "0.031200000000000002"
      ]
     },
     "execution_count": 104,
     "metadata": {},
     "output_type": "execute_result"
    }
   ],
   "source": [
    "conv_to_frac('3.12%')"
   ]
  },
  {
   "cell_type": "code",
   "execution_count": 105,
   "id": "b019e177-5349-4eae-9a3a-664ff0ae3aa8",
   "metadata": {},
   "outputs": [],
   "source": [
    "df['issue_date'] = df.issue_d.apply(conv_to_date)\n",
    "df['int_rate_frac'] = df.int_rate.apply(conv_to_frac)"
   ]
  },
  {
   "cell_type": "markdown",
   "id": "dfda2844-e4f7-4d2f-9a2f-22b3dd88f6c7",
   "metadata": {},
   "source": [
    "\n",
    "**Objective A.1.** Determine monthly loan volume & monthly average loan size in USD."
   ]
  },
  {
   "cell_type": "code",
   "execution_count": 106,
   "id": "0edbc74f-a3c1-4a60-b76a-6cca7b2a928b",
   "metadata": {},
   "outputs": [
    {
     "data": {
      "text/html": [
       "<div>\n",
       "<style scoped>\n",
       "    .dataframe tbody tr th:only-of-type {\n",
       "        vertical-align: middle;\n",
       "    }\n",
       "\n",
       "    .dataframe tbody tr th {\n",
       "        vertical-align: top;\n",
       "    }\n",
       "\n",
       "    .dataframe thead th {\n",
       "        text-align: right;\n",
       "    }\n",
       "</style>\n",
       "<table border=\"1\" class=\"dataframe\">\n",
       "  <thead>\n",
       "    <tr style=\"text-align: right;\">\n",
       "      <th></th>\n",
       "      <th>monthly_vol_usd</th>\n",
       "      <th>monthly_mean_usd</th>\n",
       "    </tr>\n",
       "    <tr>\n",
       "      <th>issue_date</th>\n",
       "      <th></th>\n",
       "      <th></th>\n",
       "    </tr>\n",
       "  </thead>\n",
       "  <tbody>\n",
       "    <tr>\n",
       "      <th>2015-01-01</th>\n",
       "      <td>533132575.0</td>\n",
       "      <td>15185.933717</td>\n",
       "    </tr>\n",
       "    <tr>\n",
       "      <th>2015-02-01</th>\n",
       "      <td>366908525.0</td>\n",
       "      <td>15435.781447</td>\n",
       "    </tr>\n",
       "    <tr>\n",
       "      <th>2015-03-01</th>\n",
       "      <td>390003275.0</td>\n",
       "      <td>15354.459646</td>\n",
       "    </tr>\n",
       "    <tr>\n",
       "      <th>2015-04-01</th>\n",
       "      <td>539401075.0</td>\n",
       "      <td>15225.705676</td>\n",
       "    </tr>\n",
       "    <tr>\n",
       "      <th>2015-05-01</th>\n",
       "      <td>483189475.0</td>\n",
       "      <td>15140.835240</td>\n",
       "    </tr>\n",
       "    <tr>\n",
       "      <th>2015-06-01</th>\n",
       "      <td>429777175.0</td>\n",
       "      <td>15087.841847</td>\n",
       "    </tr>\n",
       "    <tr>\n",
       "      <th>2015-07-01</th>\n",
       "      <td>696238600.0</td>\n",
       "      <td>15148.135416</td>\n",
       "    </tr>\n",
       "    <tr>\n",
       "      <th>2015-08-01</th>\n",
       "      <td>555331400.0</td>\n",
       "      <td>15474.875996</td>\n",
       "    </tr>\n",
       "    <tr>\n",
       "      <th>2015-09-01</th>\n",
       "      <td>450246800.0</td>\n",
       "      <td>15720.358926</td>\n",
       "    </tr>\n",
       "    <tr>\n",
       "      <th>2015-10-01</th>\n",
       "      <td>738221400.0</td>\n",
       "      <td>15180.057988</td>\n",
       "    </tr>\n",
       "    <tr>\n",
       "      <th>2015-11-01</th>\n",
       "      <td>567247325.0</td>\n",
       "      <td>15114.503730</td>\n",
       "    </tr>\n",
       "    <tr>\n",
       "      <th>2015-12-01</th>\n",
       "      <td>667910550.0</td>\n",
       "      <td>15062.367228</td>\n",
       "    </tr>\n",
       "  </tbody>\n",
       "</table>\n",
       "</div>"
      ],
      "text/plain": [
       "            monthly_vol_usd  monthly_mean_usd\n",
       "issue_date                                   \n",
       "2015-01-01      533132575.0      15185.933717\n",
       "2015-02-01      366908525.0      15435.781447\n",
       "2015-03-01      390003275.0      15354.459646\n",
       "2015-04-01      539401075.0      15225.705676\n",
       "2015-05-01      483189475.0      15140.835240\n",
       "2015-06-01      429777175.0      15087.841847\n",
       "2015-07-01      696238600.0      15148.135416\n",
       "2015-08-01      555331400.0      15474.875996\n",
       "2015-09-01      450246800.0      15720.358926\n",
       "2015-10-01      738221400.0      15180.057988\n",
       "2015-11-01      567247325.0      15114.503730\n",
       "2015-12-01      667910550.0      15062.367228"
      ]
     },
     "execution_count": 106,
     "metadata": {},
     "output_type": "execute_result"
    }
   ],
   "source": [
    "loan_by_month = pd.concat([df.groupby('issue_date')[['loan_amnt']].sum(), df.groupby('issue_date')[['loan_amnt']].mean()], axis=1).sort_index()\n",
    "loan_by_month.columns = ['monthly_vol_usd', 'monthly_mean_usd']\n",
    "loan_by_month"
   ]
  },
  {
   "cell_type": "code",
   "execution_count": 107,
   "id": "4bcc8e6c-84f7-487c-abaf-147d5f774c9d",
   "metadata": {},
   "outputs": [
    {
     "data": {
      "text/plain": [
       "<AxesSubplot:xlabel='issue_date'>"
      ]
     },
     "execution_count": 107,
     "metadata": {},
     "output_type": "execute_result"
    },
    {
     "data": {
      "image/png": "[encoded data removed]",
      "text/plain": [
       "<Figure size 432x288 with 1 Axes>"
      ]
     },
     "metadata": {
      "needs_background": "light"
     },
     "output_type": "display_data"
    }
   ],
   "source": [
    "loan_by_month[['monthly_mean_usd']].plot()"
   ]
  },
  {
   "cell_type": "code",
   "execution_count": 108,
   "id": "a6e93529-d395-4ef4-8f0a-3f3d9f88884b",
   "metadata": {},
   "outputs": [
    {
     "data": {
      "text/plain": [
       "<AxesSubplot:xlabel='issue_date'>"
      ]
     },
     "execution_count": 108,
     "metadata": {},
     "output_type": "execute_result"
    },
    {
     "data": {
      "image/png": "[encoded data removed]",
      "text/plain": [
       "<Figure size 432x288 with 1 Axes>"
      ]
     },
     "metadata": {
      "needs_background": "light"
     },
     "output_type": "display_data"
    }
   ],
   "source": [
    "loan_by_month[['monthly_vol_usd']].plot()"
   ]
  },
  {
   "cell_type": "markdown",
   "id": "1406d417-8db3-40eb-aca6-01fc9d4accde",
   "metadata": {},
   "source": [
    "\n",
    "**Objective A.2.** Determine the charge-off rates by loan grade."
   ]
  },
  {
   "cell_type": "code",
   "execution_count": 109,
   "id": "de34361f-4428-4410-b32b-3c623ef6b3cd",
   "metadata": {},
   "outputs": [
    {
     "data": {
      "text/plain": [
       "array(['B', 'A', 'D', 'E', 'C', 'F', 'G'], dtype=object)"
      ]
     },
     "execution_count": 109,
     "metadata": {},
     "output_type": "execute_result"
    }
   ],
   "source": [
    "df.grade.unique()"
   ]
  },
  {
   "cell_type": "code",
   "execution_count": 110,
   "id": "40249fba-50b5-4f7d-8fec-f509e48cc333",
   "metadata": {},
   "outputs": [
    {
     "data": {
      "text/plain": [
       "array(['Fully Paid', 'Current', 'Charged Off', 'Late (16-30 days)',\n",
       "       'Late (31-120 days)', 'In Grace Period', 'Default'], dtype=object)"
      ]
     },
     "execution_count": 110,
     "metadata": {},
     "output_type": "execute_result"
    }
   ],
   "source": [
    "df.loan_status.unique()"
   ]
  },
  {
   "cell_type": "code",
   "execution_count": 111,
   "id": "7a617d0b-cce8-4700-b323-593c11602774",
   "metadata": {},
   "outputs": [],
   "source": [
    "is_default = lambda status: int(status in ['Charged Off', 'Default'])\n",
    "is_current = lambda status: int(status in ['Fully Paid', 'Current'])"
   ]
  },
  {
   "cell_type": "code",
   "execution_count": 112,
   "id": "10a96bef-c2fa-4db2-829c-d4b8265b1f2b",
   "metadata": {},
   "outputs": [
    {
     "data": {
      "text/plain": [
       "0"
      ]
     },
     "execution_count": 112,
     "metadata": {},
     "output_type": "execute_result"
    }
   ],
   "source": [
    "is_default('test')"
   ]
  },
  {
   "cell_type": "code",
   "execution_count": 113,
   "id": "336c5abc-0614-4418-9fec-b3a31dc00cd2",
   "metadata": {},
   "outputs": [],
   "source": [
    "df['default'] = df.loan_status.apply(is_default)"
   ]
  },
  {
   "cell_type": "code",
   "execution_count": 114,
   "id": "dd5c3061-2f74-412a-91e0-7f4fa2c7cad8",
   "metadata": {},
   "outputs": [],
   "source": [
    "df['current'] = df.loan_status.apply(is_current)"
   ]
  },
  {
   "cell_type": "code",
   "execution_count": 115,
   "id": "7150e562-3f4c-4713-a8a1-7e8c15ddfdc3",
   "metadata": {},
   "outputs": [
    {
     "data": {
      "text/plain": [
       "(0.15163799142711265, 0.8276683408731996)"
      ]
     },
     "execution_count": 115,
     "metadata": {},
     "output_type": "execute_result"
    }
   ],
   "source": [
    "#average defualt over all grades\n",
    "mu_default, mu_current = df.default.mean(), df.current.mean()\n",
    "mu_default, mu_current"
   ]
  },
  {
   "cell_type": "code",
   "execution_count": 116,
   "id": "ff7ccd97-b048-47ff-86c1-d980c1c77d40",
   "metadata": {},
   "outputs": [
    {
     "data": {
      "text/plain": [
       "0.1259969731295788"
      ]
     },
     "execution_count": 116,
     "metadata": {},
     "output_type": "execute_result"
    }
   ],
   "source": [
    "df.int_rate_frac.mean()"
   ]
  },
  {
   "cell_type": "code",
   "execution_count": 117,
   "id": "5be3245f-c9e8-4cb9-aaeb-b5163977bb14",
   "metadata": {},
   "outputs": [
    {
     "data": {
      "text/html": [
       "<div>\n",
       "<style scoped>\n",
       "    .dataframe tbody tr th:only-of-type {\n",
       "        vertical-align: middle;\n",
       "    }\n",
       "\n",
       "    .dataframe tbody tr th {\n",
       "        vertical-align: top;\n",
       "    }\n",
       "\n",
       "    .dataframe thead th {\n",
       "        text-align: right;\n",
       "    }\n",
       "</style>\n",
       "<table border=\"1\" class=\"dataframe\">\n",
       "  <thead>\n",
       "    <tr style=\"text-align: right;\">\n",
       "      <th></th>\n",
       "      <th>default_rate</th>\n",
       "      <th>current_rate</th>\n",
       "      <th>mean_int_rate</th>\n",
       "    </tr>\n",
       "    <tr>\n",
       "      <th>grade</th>\n",
       "      <th></th>\n",
       "      <th></th>\n",
       "      <th></th>\n",
       "    </tr>\n",
       "  </thead>\n",
       "  <tbody>\n",
       "    <tr>\n",
       "      <th>A</th>\n",
       "      <td>0.045053</td>\n",
       "      <td>0.947079</td>\n",
       "      <td>0.069416</td>\n",
       "    </tr>\n",
       "    <tr>\n",
       "      <th>B</th>\n",
       "      <td>0.097529</td>\n",
       "      <td>0.887115</td>\n",
       "      <td>0.100443</td>\n",
       "    </tr>\n",
       "    <tr>\n",
       "      <th>C</th>\n",
       "      <td>0.162217</td>\n",
       "      <td>0.813440</td>\n",
       "      <td>0.132983</td>\n",
       "    </tr>\n",
       "    <tr>\n",
       "      <th>D</th>\n",
       "      <td>0.235165</td>\n",
       "      <td>0.736505</td>\n",
       "      <td>0.167245</td>\n",
       "    </tr>\n",
       "    <tr>\n",
       "      <th>E</th>\n",
       "      <td>0.290832</td>\n",
       "      <td>0.674144</td>\n",
       "      <td>0.192904</td>\n",
       "    </tr>\n",
       "    <tr>\n",
       "      <th>F</th>\n",
       "      <td>0.375980</td>\n",
       "      <td>0.589895</td>\n",
       "      <td>0.236147</td>\n",
       "    </tr>\n",
       "    <tr>\n",
       "      <th>G</th>\n",
       "      <td>0.430549</td>\n",
       "      <td>0.540840</td>\n",
       "      <td>0.268352</td>\n",
       "    </tr>\n",
       "  </tbody>\n",
       "</table>\n",
       "</div>"
      ],
      "text/plain": [
       "       default_rate  current_rate  mean_int_rate\n",
       "grade                                           \n",
       "A          0.045053      0.947079       0.069416\n",
       "B          0.097529      0.887115       0.100443\n",
       "C          0.162217      0.813440       0.132983\n",
       "D          0.235165      0.736505       0.167245\n",
       "E          0.290832      0.674144       0.192904\n",
       "F          0.375980      0.589895       0.236147\n",
       "G          0.430549      0.540840       0.268352"
      ]
     },
     "execution_count": 117,
     "metadata": {},
     "output_type": "execute_result"
    }
   ],
   "source": [
    "default_rates_by_grade = df.groupby('grade').mean()[['default', 'current', 'int_rate_frac']]\n",
    "default_rates_by_grade.columns = ['default_rate', 'current_rate', 'mean_int_rate']\n",
    "default_rates_by_grade"
   ]
  },
  {
   "cell_type": "code",
   "execution_count": 118,
   "id": "b778607f-d0c8-4b7d-b294-e60ad1520418",
   "metadata": {},
   "outputs": [
    {
     "data": {
      "text/plain": [
       "<AxesSubplot:xlabel='grade'>"
      ]
     },
     "execution_count": 118,
     "metadata": {},
     "output_type": "execute_result"
    },
    {
     "data": {
      "image/png": "[encoded data removed]",
      "text/plain": [
       "<Figure size 432x288 with 1 Axes>"
      ]
     },
     "metadata": {
      "needs_background": "light"
     },
     "output_type": "display_data"
    }
   ],
   "source": [
    "default_rates_by_grade.default_rate.plot(kind='bar')"
   ]
  },
  {
   "cell_type": "code",
   "execution_count": 119,
   "id": "e585a2ec-2040-4162-b18b-502022c85e08",
   "metadata": {},
   "outputs": [
    {
     "data": {
      "text/plain": [
       "<AxesSubplot:title={'center':'int_rate_frac'}, xlabel='grade'>"
      ]
     },
     "execution_count": 119,
     "metadata": {},
     "output_type": "execute_result"
    },
    {
     "data": {
      "image/png": "[encoded data removed]",
      "text/plain": [
       "<Figure size 432x288 with 1 Axes>"
      ]
     },
     "metadata": {
      "needs_background": "light"
     },
     "output_type": "display_data"
    }
   ],
   "source": [
    "df.boxplot('int_rate_frac', by='grade')"
   ]
  },
  {
   "cell_type": "markdown",
   "id": "1df7dd92-3758-4fda-8204-8a0da4a18a5e",
   "metadata": {},
   "source": [
    "**Objective A.3.** Identify any statistically significant difference in loan charge off rates."
   ]
  },
  {
   "cell_type": "code",
   "execution_count": 120,
   "id": "ee1d174c-d0a3-4bfd-a529-02176ae823f0",
   "metadata": {},
   "outputs": [],
   "source": [
    "# we will need to perform an ANOVA F-test to determine if grade-specific default-rate differences are statistically different. \n",
    "## Note: Given the large sample size and large range of variation of default rates across loan grades, a significant different is intuitively evident!"
   ]
  },
  {
   "cell_type": "code",
   "execution_count": 121,
   "id": "c611cf90-db3d-4cd5-bf62-bfbe7f76418f",
   "metadata": {},
   "outputs": [],
   "source": [
    "import statsmodels.api as sm\n",
    "from statsmodels.formula.api import ols"
   ]
  },
  {
   "cell_type": "code",
   "execution_count": 122,
   "id": "25dac1d0-14b0-40f9-b318-63415a220b52",
   "metadata": {},
   "outputs": [],
   "source": [
    "model = ols('default ~ grade', data=df).fit()"
   ]
  },
  {
   "cell_type": "code",
   "execution_count": 123,
   "id": "9f4c20bb-2517-4ca6-b3d3-61fdb0eaeb34",
   "metadata": {},
   "outputs": [
    {
     "data": {
      "text/html": [
       "<div>\n",
       "<style scoped>\n",
       "    .dataframe tbody tr th:only-of-type {\n",
       "        vertical-align: middle;\n",
       "    }\n",
       "\n",
       "    .dataframe tbody tr th {\n",
       "        vertical-align: top;\n",
       "    }\n",
       "\n",
       "    .dataframe thead th {\n",
       "        text-align: right;\n",
       "    }\n",
       "</style>\n",
       "<table border=\"1\" class=\"dataframe\">\n",
       "  <thead>\n",
       "    <tr style=\"text-align: right;\">\n",
       "      <th></th>\n",
       "      <th>df</th>\n",
       "      <th>sum_sq</th>\n",
       "      <th>mean_sq</th>\n",
       "      <th>F</th>\n",
       "      <th>PR(&gt;F)</th>\n",
       "    </tr>\n",
       "  </thead>\n",
       "  <tbody>\n",
       "    <tr>\n",
       "      <th>grade</th>\n",
       "      <td>6.0</td>\n",
       "      <td>2967.835993</td>\n",
       "      <td>494.639332</td>\n",
       "      <td>4067.823532</td>\n",
       "      <td>0.0</td>\n",
       "    </tr>\n",
       "    <tr>\n",
       "      <th>Residual</th>\n",
       "      <td>421088.0</td>\n",
       "      <td>51203.471702</td>\n",
       "      <td>0.121598</td>\n",
       "      <td>NaN</td>\n",
       "      <td>NaN</td>\n",
       "    </tr>\n",
       "  </tbody>\n",
       "</table>\n",
       "</div>"
      ],
      "text/plain": [
       "                df        sum_sq     mean_sq            F  PR(>F)\n",
       "grade          6.0   2967.835993  494.639332  4067.823532     0.0\n",
       "Residual  421088.0  51203.471702    0.121598          NaN     NaN"
      ]
     },
     "execution_count": 123,
     "metadata": {},
     "output_type": "execute_result"
    }
   ],
   "source": [
    "anova_table = sm.stats.anova_lm(model)\n",
    "anova_table"
   ]
  },
  {
   "cell_type": "markdown",
   "id": "3ca82875-b102-4aa2-9a80-e6ed87f69d01",
   "metadata": {},
   "source": [
    "The above p-value suggests that it in near impossible that true grade-specific default rates are the same. "
   ]
  },
  {
   "cell_type": "markdown",
   "id": "87996431-9b97-46c7-b86f-77f457b7ac42",
   "metadata": {},
   "source": [
    "''\n",
    "\n",
    "**Objective A.4.** Determine if the interest rate chrged by the Lending Club is consistent with the risk level?"
   ]
  },
  {
   "cell_type": "markdown",
   "id": "95423c62-5af7-478f-bfc3-ee7dac61d0ef",
   "metadata": {},
   "source": [
    "['Historical average fixed 30-yr mortgage rates'](http://cdn.gobankingrates.com/wp-content/uploads/2014/12/gobankingrates_mortgage_rate2.jpg)"
   ]
  },
  {
   "cell_type": "code",
   "execution_count": 124,
   "id": "8fb00aac-65e4-4331-a954-93d85d058179",
   "metadata": {},
   "outputs": [
    {
     "data": {
      "image/png": "[encoded data removed]",
      "text/plain": [
       "<IPython.core.display.Image object>"
      ]
     },
     "execution_count": 124,
     "metadata": {},
     "output_type": "execute_result"
    }
   ],
   "source": [
    "display.Image('https://cdn.americanprogress.org/content/uploads/2019/06/11063626/MillerEvaluatingOptions-WEBTABLES7.png')"
   ]
  },
  {
   "cell_type": "markdown",
   "id": "8486b59b-6689-497c-a48e-91d030323a9d",
   "metadata": {},
   "source": [
    "Let's define a simple KPI as ratio of the interest rate charged to the risk of default (I2R) as:\n",
    "\n",
    "$ I2R = \\frac{i - i_{base}}{i_{ref} - i_{base}} \\times \\frac{risk_{ref}}{risk_{default}} $\n",
    "\n",
    "where $ i $ denotes interst rate, and $ i_{ref} $ and $ risk_{ref} $ are the mean interest rate charged and mean default rate for **Grade A** loans, respectively."
   ]
  },
  {
   "cell_type": "code",
   "execution_count": 125,
   "id": "4b999329-b9c1-4299-aa94-60d2113bf2da",
   "metadata": {},
   "outputs": [
    {
     "data": {
      "text/plain": [
       "(0.04505290716701211, 0.06941616941202032, 0.053200000000000004)"
      ]
     },
     "execution_count": 125,
     "metadata": {},
     "output_type": "execute_result"
    }
   ],
   "source": [
    "risk_ref, i_ref, i_base = default_rates_by_grade.default_rate[0], default_rates_by_grade.mean_int_rate[0], df.int_rate_frac.min()\n",
    "risk_ref, i_ref, i_base"
   ]
  },
  {
   "cell_type": "code",
   "execution_count": 126,
   "id": "1aaaaf83-c771-4ad1-813b-5fddbc92d1ad",
   "metadata": {},
   "outputs": [
    {
     "data": {
      "text/html": [
       "<div>\n",
       "<style scoped>\n",
       "    .dataframe tbody tr th:only-of-type {\n",
       "        vertical-align: middle;\n",
       "    }\n",
       "\n",
       "    .dataframe tbody tr th {\n",
       "        vertical-align: top;\n",
       "    }\n",
       "\n",
       "    .dataframe thead th {\n",
       "        text-align: right;\n",
       "    }\n",
       "</style>\n",
       "<table border=\"1\" class=\"dataframe\">\n",
       "  <thead>\n",
       "    <tr style=\"text-align: right;\">\n",
       "      <th></th>\n",
       "      <th>default_rate</th>\n",
       "      <th>current_rate</th>\n",
       "      <th>mean_int_rate</th>\n",
       "      <th>I2R</th>\n",
       "    </tr>\n",
       "    <tr>\n",
       "      <th>grade</th>\n",
       "      <th></th>\n",
       "      <th></th>\n",
       "      <th></th>\n",
       "      <th></th>\n",
       "    </tr>\n",
       "  </thead>\n",
       "  <tbody>\n",
       "    <tr>\n",
       "      <th>A</th>\n",
       "      <td>0.045053</td>\n",
       "      <td>0.947079</td>\n",
       "      <td>0.069416</td>\n",
       "      <td>1.000000</td>\n",
       "    </tr>\n",
       "    <tr>\n",
       "      <th>B</th>\n",
       "      <td>0.097529</td>\n",
       "      <td>0.887115</td>\n",
       "      <td>0.100443</td>\n",
       "      <td>0.668418</td>\n",
       "    </tr>\n",
       "    <tr>\n",
       "      <th>C</th>\n",
       "      <td>0.162217</td>\n",
       "      <td>0.813440</td>\n",
       "      <td>0.132983</td>\n",
       "      <td>0.532061</td>\n",
       "    </tr>\n",
       "    <tr>\n",
       "      <th>D</th>\n",
       "      <td>0.235165</td>\n",
       "      <td>0.736505</td>\n",
       "      <td>0.167245</td>\n",
       "      <td>0.461575</td>\n",
       "    </tr>\n",
       "    <tr>\n",
       "      <th>E</th>\n",
       "      <td>0.290832</td>\n",
       "      <td>0.674144</td>\n",
       "      <td>0.192904</td>\n",
       "      <td>0.430489</td>\n",
       "    </tr>\n",
       "    <tr>\n",
       "      <th>F</th>\n",
       "      <td>0.375980</td>\n",
       "      <td>0.589895</td>\n",
       "      <td>0.236147</td>\n",
       "      <td>0.407643</td>\n",
       "    </tr>\n",
       "    <tr>\n",
       "      <th>G</th>\n",
       "      <td>0.430549</td>\n",
       "      <td>0.540840</td>\n",
       "      <td>0.268352</td>\n",
       "      <td>0.404524</td>\n",
       "    </tr>\n",
       "  </tbody>\n",
       "</table>\n",
       "</div>"
      ],
      "text/plain": [
       "       default_rate  current_rate  mean_int_rate       I2R\n",
       "grade                                                     \n",
       "A          0.045053      0.947079       0.069416  1.000000\n",
       "B          0.097529      0.887115       0.100443  0.668418\n",
       "C          0.162217      0.813440       0.132983  0.532061\n",
       "D          0.235165      0.736505       0.167245  0.461575\n",
       "E          0.290832      0.674144       0.192904  0.430489\n",
       "F          0.375980      0.589895       0.236147  0.407643\n",
       "G          0.430549      0.540840       0.268352  0.404524"
      ]
     },
     "execution_count": 126,
     "metadata": {},
     "output_type": "execute_result"
    }
   ],
   "source": [
    "default_rates_by_grade['I2R'] = ((default_rates_by_grade.mean_int_rate)/default_rates_by_grade.default_rate)*(risk_ref/i_ref)\n",
    "default_rates_by_grade"
   ]
  },
  {
   "cell_type": "code",
   "execution_count": 127,
   "id": "d3166b6a-63ff-4018-ab06-15b60aa76b7e",
   "metadata": {},
   "outputs": [
    {
     "data": {
      "text/plain": [
       "<AxesSubplot:xlabel='grade'>"
      ]
     },
     "execution_count": 127,
     "metadata": {},
     "output_type": "execute_result"
    },
    {
     "data": {
      "image/png": "[encoded data removed]",
      "text/plain": [
       "<Figure size 432x288 with 1 Axes>"
      ]
     },
     "metadata": {
      "needs_background": "light"
     },
     "output_type": "display_data"
    }
   ],
   "source": [
    "default_rates_by_grade.I2R.plot(kind='bar')"
   ]
  },
  {
   "cell_type": "code",
   "execution_count": 128,
   "id": "43bb3dbc-3976-4ef0-9dca-9d77deb646be",
   "metadata": {},
   "outputs": [
    {
     "data": {
      "text/html": [
       "<div>\n",
       "<style scoped>\n",
       "    .dataframe tbody tr th:only-of-type {\n",
       "        vertical-align: middle;\n",
       "    }\n",
       "\n",
       "    .dataframe tbody tr th {\n",
       "        vertical-align: top;\n",
       "    }\n",
       "\n",
       "    .dataframe thead th {\n",
       "        text-align: right;\n",
       "    }\n",
       "</style>\n",
       "<table border=\"1\" class=\"dataframe\">\n",
       "  <thead>\n",
       "    <tr style=\"text-align: right;\">\n",
       "      <th></th>\n",
       "      <th>default_rate</th>\n",
       "      <th>current_rate</th>\n",
       "      <th>mean_int_rate</th>\n",
       "      <th>I2R</th>\n",
       "    </tr>\n",
       "    <tr>\n",
       "      <th>grade</th>\n",
       "      <th></th>\n",
       "      <th></th>\n",
       "      <th></th>\n",
       "      <th></th>\n",
       "    </tr>\n",
       "  </thead>\n",
       "  <tbody>\n",
       "    <tr>\n",
       "      <th>A</th>\n",
       "      <td>0.045053</td>\n",
       "      <td>0.947079</td>\n",
       "      <td>0.069416</td>\n",
       "      <td>1.000000</td>\n",
       "    </tr>\n",
       "    <tr>\n",
       "      <th>B</th>\n",
       "      <td>0.097529</td>\n",
       "      <td>0.887115</td>\n",
       "      <td>0.100443</td>\n",
       "      <td>1.345794</td>\n",
       "    </tr>\n",
       "    <tr>\n",
       "      <th>C</th>\n",
       "      <td>0.162217</td>\n",
       "      <td>0.813440</td>\n",
       "      <td>0.132983</td>\n",
       "      <td>1.366432</td>\n",
       "    </tr>\n",
       "    <tr>\n",
       "      <th>D</th>\n",
       "      <td>0.235165</td>\n",
       "      <td>0.736505</td>\n",
       "      <td>0.167245</td>\n",
       "      <td>1.347342</td>\n",
       "    </tr>\n",
       "    <tr>\n",
       "      <th>E</th>\n",
       "      <td>0.290832</td>\n",
       "      <td>0.674144</td>\n",
       "      <td>0.192904</td>\n",
       "      <td>1.334571</td>\n",
       "    </tr>\n",
       "    <tr>\n",
       "      <th>F</th>\n",
       "      <td>0.375980</td>\n",
       "      <td>0.589895</td>\n",
       "      <td>0.236147</td>\n",
       "      <td>1.351870</td>\n",
       "    </tr>\n",
       "    <tr>\n",
       "      <th>G</th>\n",
       "      <td>0.430549</td>\n",
       "      <td>0.540840</td>\n",
       "      <td>0.268352</td>\n",
       "      <td>1.388344</td>\n",
       "    </tr>\n",
       "  </tbody>\n",
       "</table>\n",
       "</div>"
      ],
      "text/plain": [
       "       default_rate  current_rate  mean_int_rate       I2R\n",
       "grade                                                     \n",
       "A          0.045053      0.947079       0.069416  1.000000\n",
       "B          0.097529      0.887115       0.100443  1.345794\n",
       "C          0.162217      0.813440       0.132983  1.366432\n",
       "D          0.235165      0.736505       0.167245  1.347342\n",
       "E          0.290832      0.674144       0.192904  1.334571\n",
       "F          0.375980      0.589895       0.236147  1.351870\n",
       "G          0.430549      0.540840       0.268352  1.388344"
      ]
     },
     "execution_count": 128,
     "metadata": {},
     "output_type": "execute_result"
    }
   ],
   "source": [
    "# the modified I2R metric that incorporates a base rate when default risk is minimal\n",
    "default_rates_by_grade['I2R'] = ((default_rates_by_grade.mean_int_rate-i_base)/default_rates_by_grade.default_rate)*(risk_ref/(i_ref-i_base))\n",
    "default_rates_by_grade"
   ]
  },
  {
   "cell_type": "code",
   "execution_count": 129,
   "id": "a6ded5a3-fb98-4c0d-82be-d4bf5cd4c79c",
   "metadata": {},
   "outputs": [
    {
     "data": {
      "text/plain": [
       "<AxesSubplot:xlabel='grade'>"
      ]
     },
     "execution_count": 129,
     "metadata": {},
     "output_type": "execute_result"
    },
    {
     "data": {
      "image/png": "[encoded data removed]",
      "text/plain": [
       "<Figure size 432x288 with 1 Axes>"
      ]
     },
     "metadata": {
      "needs_background": "light"
     },
     "output_type": "display_data"
    }
   ],
   "source": [
    "default_rates_by_grade.I2R.plot(kind='bar')"
   ]
  },
  {
   "cell_type": "markdown",
   "id": "b9399e6f-d253-43a4-b8ab-8ed5f6dda166",
   "metadata": {},
   "source": [
    "- **Task B: Modeling**\n",
    "    - Objective B.1. Perform the necessary data curation, specifically with respect to (a) missing and (b) erronous values\n",
    "    - Objective B.2. Build a Charge-Off prediction model, demonstrate important steps and discuss key features.\n"
   ]
  },
  {
   "cell_type": "code",
   "execution_count": 90,
   "id": "d4a8e198-2e28-4077-a73e-0889b3c23b36",
   "metadata": {},
   "outputs": [
    {
     "data": {
      "text/plain": [
       "sec_app_mths_since_last_major_derog    1.000000\n",
       "sec_app_revol_util                     1.000000\n",
       "revol_bal_joint                        1.000000\n",
       "member_id                              1.000000\n",
       "sec_app_earliest_cr_line               1.000000\n",
       "sec_app_mort_acc                       1.000000\n",
       "sec_app_open_acc                       1.000000\n",
       "sec_app_inq_last_6mths                 1.000000\n",
       "sec_app_chargeoff_within_12_mths       1.000000\n",
       "sec_app_open_act_il                    1.000000\n",
       "sec_app_num_rev_accts                  1.000000\n",
       "sec_app_collections_12_mths_ex_med     1.000000\n",
       "id                                     0.999995\n",
       "desc                                   0.999893\n",
       "dti_joint                              0.998791\n",
       "annual_inc_joint                       0.998787\n",
       "il_util                                0.955789\n",
       "mths_since_rcnt_il                     0.950581\n",
       "max_bal_bc                             0.949247\n",
       "total_bal_il                           0.949247\n",
       "open_il_12m                            0.949247\n",
       "open_act_il                            0.949247\n",
       "open_il_24m                            0.949247\n",
       "open_rv_12m                            0.949247\n",
       "open_rv_24m                            0.949247\n",
       "inq_last_12m                           0.949247\n",
       "total_cu_tl                            0.949247\n",
       "open_acc_6m                            0.949247\n",
       "inq_fi                                 0.949247\n",
       "all_util                               0.949247\n",
       "mths_since_last_record                 0.823283\n",
       "mths_since_recent_bc_dlq               0.742102\n",
       "mths_since_last_major_derog            0.708549\n",
       "mths_since_recent_revol_delinq         0.639663\n",
       "mths_since_last_delinq                 0.484363\n",
       "mths_since_recent_inq                  0.105916\n",
       "emp_title                              0.056700\n",
       "emp_length                             0.056564\n",
       "num_tl_120dpd_2m                       0.045671\n",
       "mo_sin_old_il_acct                     0.029105\n",
       "percent_bc_gt_75                       0.010071\n",
       "bc_util                                0.010043\n",
       "bc_open_to_buy                         0.009416\n",
       "mths_since_recent_bc                   0.009024\n",
       "revol_util                             0.000389\n",
       "title                                  0.000318\n",
       "dti                                    0.000009\n",
       "num_rev_accts                          0.000007\n",
       "policy_code                            0.000005\n",
       "pct_tl_nvr_dlq                         0.000005\n",
       "dtype: float64"
      ]
     },
     "execution_count": 90,
     "metadata": {},
     "output_type": "execute_result"
    }
   ],
   "source": [
    "# Identifying features with largest NaN fractions\n",
    "percent_nans_by_feature = df.isna().mean().sort_values(ascending=False)\n",
    "percent_nans_by_feature[:50]"
   ]
  },
  {
   "cell_type": "code",
   "execution_count": 300,
   "id": "7375dcde-90ad-4109-a127-11cccc6bd89a",
   "metadata": {},
   "outputs": [
    {
     "data": {
      "text/plain": [
       "(71,)"
      ]
     },
     "execution_count": 300,
     "metadata": {},
     "output_type": "execute_result"
    }
   ],
   "source": [
    "# Let's drop all features with more than more than 95% NaN-values:\n",
    "ml_features = percent_nans_by_feature[percent_nans_by_feature<0.05].index\n",
    "ml_features.shape"
   ]
  },
  {
   "cell_type": "code",
   "execution_count": 301,
   "id": "7143092b-5d6a-477d-aab4-2ebbe9659cda",
   "metadata": {},
   "outputs": [
    {
     "data": {
      "text/plain": [
       "(421095, 66)"
      ]
     },
     "execution_count": 301,
     "metadata": {},
     "output_type": "execute_result"
    }
   ],
   "source": [
    "df_ml = df[ml_features].copy()\n",
    "df_ml.drop(columns=['current', 'issue_d', 'zip_code', 'int_rate', 'loan_status'], inplace=True)\n",
    "df_ml.shape"
   ]
  },
  {
   "cell_type": "code",
   "execution_count": 302,
   "id": "7facfa99-8b59-4878-abf2-9a46fdaa4d80",
   "metadata": {},
   "outputs": [],
   "source": [
    "df_ml.num_tl_120dpd_2m.fillna(0, inplace=True)"
   ]
  },
  {
   "cell_type": "code",
   "execution_count": 303,
   "id": "7fdb517a-4023-498e-9e4d-4bfa26e86122",
   "metadata": {},
   "outputs": [],
   "source": [
    "df_ml.revol_util = df_ml.revol_util.apply(conv_to_frac)"
   ]
  },
  {
   "cell_type": "code",
   "execution_count": 304,
   "id": "81fe78cc-3c77-4bf2-b310-a55e9bec2ac7",
   "metadata": {},
   "outputs": [
    {
     "data": {
      "text/plain": [
       "mo_sin_old_il_acct            0.029100\n",
       "percent_bc_gt_75              0.010067\n",
       "bc_util                       0.010038\n",
       "bc_open_to_buy                0.009411\n",
       "mths_since_recent_bc          0.009019\n",
       "revol_util                    0.000385\n",
       "title                         0.000313\n",
       "dti                           0.000005\n",
       "num_rev_accts                 0.000002\n",
       "application_type              0.000000\n",
       "acc_open_past_24mths          0.000000\n",
       "num_tl_op_past_12m            0.000000\n",
       "loan_amnt                     0.000000\n",
       "addr_state                    0.000000\n",
       "annual_inc                    0.000000\n",
       "collections_12_mths_ex_med    0.000000\n",
       "avg_cur_bal                   0.000000\n",
       "chargeoff_within_12_mths      0.000000\n",
       "num_tl_30dpd                  0.000000\n",
       "delinq_2yrs                   0.000000\n",
       "dtype: float64"
      ]
     },
     "execution_count": 304,
     "metadata": {},
     "output_type": "execute_result"
    }
   ],
   "source": [
    "df_ml.isna().mean().sort_values(ascending=False)[:20]"
   ]
  },
  {
   "cell_type": "code",
   "execution_count": 305,
   "id": "6c51e176-6b0f-4248-8dcb-acbb71922d8a",
   "metadata": {},
   "outputs": [],
   "source": [
    "df_ml['earliest_cr_line_date'] = df.earliest_cr_line.apply(conv_to_date)"
   ]
  },
  {
   "cell_type": "code",
   "execution_count": 306,
   "id": "b5baa34d-fc17-42a8-a983-6d2b665de521",
   "metadata": {},
   "outputs": [],
   "source": [
    "df_ml['deltat_cr'] = (df_ml.issue_date - df_ml.earliest_cr_line_date).apply(lambda x: x.days)"
   ]
  },
  {
   "cell_type": "code",
   "execution_count": 307,
   "id": "ed4f4dd8-2aca-4ee2-b3f1-06c6f96577a2",
   "metadata": {},
   "outputs": [],
   "source": [
    "df_ml.drop(columns=['earliest_cr_line', 'earliest_cr_line_date', 'issue_date'], inplace=True)"
   ]
  },
  {
   "cell_type": "code",
   "execution_count": 308,
   "id": "da589020-c82b-4a22-bc94-d1fa08049806",
   "metadata": {},
   "outputs": [
    {
     "data": {
      "text/plain": [
       "(Index(['mo_sin_old_il_acct', 'percent_bc_gt_75', 'bc_util', 'bc_open_to_buy',\n",
       "        'mths_since_recent_bc', 'revol_util', 'dti', 'num_rev_accts', 'pub_rec',\n",
       "        'policy_code', 'pct_tl_nvr_dlq', 'revol_bal', 'pub_rec_bankruptcies',\n",
       "        'acc_now_delinq', 'tax_liens', 'tot_cur_bal', 'tot_hi_cred_lim',\n",
       "        'total_acc', 'total_bal_ex_mort', 'total_il_high_credit_limit',\n",
       "        'total_rev_hi_lim', 'default', 'total_bc_limit', 'num_bc_tl',\n",
       "        'open_acc', 'installment', 'inq_last_6mths', 'funded_amnt_inv',\n",
       "        'funded_amnt', 'delinq_amnt', 'delinq_2yrs',\n",
       "        'collections_12_mths_ex_med', 'chargeoff_within_12_mths', 'avg_cur_bal',\n",
       "        'annual_inc', 'loan_amnt', 'num_tl_op_past_12m', 'acc_open_past_24mths',\n",
       "        'num_tl_90g_dpd_24m', 'num_tl_30dpd', 'num_tl_120dpd_2m', 'num_sats',\n",
       "        'num_rev_tl_bal_gt_0', 'num_op_rev_tl', 'num_il_tl', 'num_bc_sats',\n",
       "        'num_actv_rev_tl', 'num_actv_bc_tl', 'num_accts_ever_120_pd',\n",
       "        'mort_acc', 'mo_sin_rcnt_tl', 'mo_sin_rcnt_rev_tl_op',\n",
       "        'mo_sin_old_rev_tl_op', 'int_rate_frac', 'deltat_cr'],\n",
       "       dtype='object'),\n",
       " Index(['title', 'purpose', 'sub_grade', 'term', 'verification_status',\n",
       "        'initial_list_status', 'home_ownership', 'grade', 'application_type',\n",
       "        'addr_state'],\n",
       "       dtype='object'))"
      ]
     },
     "execution_count": 308,
     "metadata": {},
     "output_type": "execute_result"
    }
   ],
   "source": [
    "dtypes = df_ml.dtypes\n",
    "numeric_columns = dtypes[dtypes.isin(['float64', 'int64'])].index\n",
    "text_columns = df_ml.columns[~df_ml.columns.isin(numeric_columns)]\n",
    "numeric_columns, text_columns"
   ]
  },
  {
   "cell_type": "code",
   "execution_count": 222,
   "id": "d767a96d-6f3a-4778-8bd9-1c93856cd59f",
   "metadata": {},
   "outputs": [],
   "source": [
    "#imputing the remaining missing values using sklearn KNN imputer\n",
    "from sklearn.impute import KNNImputer"
   ]
  },
  {
   "cell_type": "code",
   "execution_count": 309,
   "id": "3dc0d4f4-0da5-45d8-ab20-b157bf6f2dd0",
   "metadata": {},
   "outputs": [
    {
     "name": "stdout",
     "output_type": "stream",
     "text": [
      "Wall time: 15min 46s\n"
     ]
    }
   ],
   "source": [
    "%%time\n",
    "cols, inds = df_ml[numeric_columns].columns, df_ml[numeric_columns].index\n",
    "arr_ml = KNNImputer().fit_transform(df_ml[numeric_columns])\n",
    "df_ml[numeric_columns] = pd.DataFrame(arr_ml, index=inds)"
   ]
  },
  {
   "cell_type": "code",
   "execution_count": 310,
   "id": "11969f8e-709e-46c5-af0e-36fd8f26250e",
   "metadata": {},
   "outputs": [
    {
     "data": {
      "text/html": [
       "<div>\n",
       "<style scoped>\n",
       "    .dataframe tbody tr th:only-of-type {\n",
       "        vertical-align: middle;\n",
       "    }\n",
       "\n",
       "    .dataframe tbody tr th {\n",
       "        vertical-align: top;\n",
       "    }\n",
       "\n",
       "    .dataframe thead th {\n",
       "        text-align: right;\n",
       "    }\n",
       "</style>\n",
       "<table border=\"1\" class=\"dataframe\">\n",
       "  <thead>\n",
       "    <tr style=\"text-align: right;\">\n",
       "      <th></th>\n",
       "      <th>mo_sin_old_il_acct</th>\n",
       "      <th>percent_bc_gt_75</th>\n",
       "      <th>bc_util</th>\n",
       "      <th>bc_open_to_buy</th>\n",
       "      <th>mths_since_recent_bc</th>\n",
       "      <th>revol_util</th>\n",
       "      <th>title</th>\n",
       "      <th>dti</th>\n",
       "      <th>num_rev_accts</th>\n",
       "      <th>purpose</th>\n",
       "      <th>...</th>\n",
       "      <th>num_bc_sats</th>\n",
       "      <th>num_actv_rev_tl</th>\n",
       "      <th>num_actv_bc_tl</th>\n",
       "      <th>num_accts_ever_120_pd</th>\n",
       "      <th>mort_acc</th>\n",
       "      <th>mo_sin_rcnt_tl</th>\n",
       "      <th>mo_sin_rcnt_rev_tl_op</th>\n",
       "      <th>mo_sin_old_rev_tl_op</th>\n",
       "      <th>int_rate_frac</th>\n",
       "      <th>deltat_cr</th>\n",
       "    </tr>\n",
       "  </thead>\n",
       "  <tbody>\n",
       "    <tr>\n",
       "      <th>0</th>\n",
       "      <td>127.0</td>\n",
       "      <td>0.0</td>\n",
       "      <td>17.1</td>\n",
       "      <td>41055.0</td>\n",
       "      <td>4.0</td>\n",
       "      <td>0.134</td>\n",
       "      <td>Debt consolidation</td>\n",
       "      <td>23.84</td>\n",
       "      <td>22.0</td>\n",
       "      <td>debt_consolidation</td>\n",
       "      <td>...</td>\n",
       "      <td>5.0</td>\n",
       "      <td>4.0</td>\n",
       "      <td>2.0</td>\n",
       "      <td>0.0</td>\n",
       "      <td>2.0</td>\n",
       "      <td>1.0</td>\n",
       "      <td>4.0</td>\n",
       "      <td>145.0</td>\n",
       "      <td>0.0980</td>\n",
       "      <td>4413.0</td>\n",
       "    </tr>\n",
       "    <tr>\n",
       "      <th>1</th>\n",
       "      <td>166.0</td>\n",
       "      <td>0.0</td>\n",
       "      <td>44.0</td>\n",
       "      <td>24661.0</td>\n",
       "      <td>73.0</td>\n",
       "      <td>0.425</td>\n",
       "      <td>Credit card refinancing</td>\n",
       "      <td>9.54</td>\n",
       "      <td>7.0</td>\n",
       "      <td>credit_card</td>\n",
       "      <td>...</td>\n",
       "      <td>3.0</td>\n",
       "      <td>1.0</td>\n",
       "      <td>1.0</td>\n",
       "      <td>0.0</td>\n",
       "      <td>7.0</td>\n",
       "      <td>4.0</td>\n",
       "      <td>4.0</td>\n",
       "      <td>238.0</td>\n",
       "      <td>0.0532</td>\n",
       "      <td>7243.0</td>\n",
       "    </tr>\n",
       "    <tr>\n",
       "      <th>2</th>\n",
       "      <td>143.0</td>\n",
       "      <td>50.0</td>\n",
       "      <td>59.9</td>\n",
       "      <td>23476.0</td>\n",
       "      <td>10.0</td>\n",
       "      <td>0.519</td>\n",
       "      <td>Debt consolidation</td>\n",
       "      <td>31.88</td>\n",
       "      <td>34.0</td>\n",
       "      <td>debt_consolidation</td>\n",
       "      <td>...</td>\n",
       "      <td>14.0</td>\n",
       "      <td>20.0</td>\n",
       "      <td>14.0</td>\n",
       "      <td>0.0</td>\n",
       "      <td>2.0</td>\n",
       "      <td>4.0</td>\n",
       "      <td>4.0</td>\n",
       "      <td>158.0</td>\n",
       "      <td>0.1849</td>\n",
       "      <td>4809.0</td>\n",
       "    </tr>\n",
       "    <tr>\n",
       "      <th>3</th>\n",
       "      <td>118.0</td>\n",
       "      <td>33.3</td>\n",
       "      <td>50.3</td>\n",
       "      <td>21569.0</td>\n",
       "      <td>16.0</td>\n",
       "      <td>0.503</td>\n",
       "      <td>Home improvement</td>\n",
       "      <td>18.50</td>\n",
       "      <td>11.0</td>\n",
       "      <td>home_improvement</td>\n",
       "      <td>...</td>\n",
       "      <td>3.0</td>\n",
       "      <td>2.0</td>\n",
       "      <td>2.0</td>\n",
       "      <td>0.0</td>\n",
       "      <td>3.0</td>\n",
       "      <td>6.0</td>\n",
       "      <td>16.0</td>\n",
       "      <td>220.0</td>\n",
       "      <td>0.1577</td>\n",
       "      <td>6696.0</td>\n",
       "    </tr>\n",
       "    <tr>\n",
       "      <th>4</th>\n",
       "      <td>112.0</td>\n",
       "      <td>100.0</td>\n",
       "      <td>102.4</td>\n",
       "      <td>0.0</td>\n",
       "      <td>25.0</td>\n",
       "      <td>1.024</td>\n",
       "      <td>NaN</td>\n",
       "      <td>17.56</td>\n",
       "      <td>4.0</td>\n",
       "      <td>credit_card</td>\n",
       "      <td>...</td>\n",
       "      <td>3.0</td>\n",
       "      <td>3.0</td>\n",
       "      <td>3.0</td>\n",
       "      <td>0.0</td>\n",
       "      <td>0.0</td>\n",
       "      <td>13.0</td>\n",
       "      <td>25.0</td>\n",
       "      <td>114.0</td>\n",
       "      <td>0.1989</td>\n",
       "      <td>3470.0</td>\n",
       "    </tr>\n",
       "  </tbody>\n",
       "</table>\n",
       "<p>5 rows × 65 columns</p>\n",
       "</div>"
      ],
      "text/plain": [
       "   mo_sin_old_il_acct  percent_bc_gt_75  bc_util  bc_open_to_buy  \\\n",
       "0               127.0               0.0     17.1         41055.0   \n",
       "1               166.0               0.0     44.0         24661.0   \n",
       "2               143.0              50.0     59.9         23476.0   \n",
       "3               118.0              33.3     50.3         21569.0   \n",
       "4               112.0             100.0    102.4             0.0   \n",
       "\n",
       "   mths_since_recent_bc  revol_util                    title    dti  \\\n",
       "0                   4.0       0.134       Debt consolidation  23.84   \n",
       "1                  73.0       0.425  Credit card refinancing   9.54   \n",
       "2                  10.0       0.519       Debt consolidation  31.88   \n",
       "3                  16.0       0.503         Home improvement  18.50   \n",
       "4                  25.0       1.024                      NaN  17.56   \n",
       "\n",
       "   num_rev_accts             purpose  ... num_bc_sats  num_actv_rev_tl  \\\n",
       "0           22.0  debt_consolidation  ...         5.0              4.0   \n",
       "1            7.0         credit_card  ...         3.0              1.0   \n",
       "2           34.0  debt_consolidation  ...        14.0             20.0   \n",
       "3           11.0    home_improvement  ...         3.0              2.0   \n",
       "4            4.0         credit_card  ...         3.0              3.0   \n",
       "\n",
       "   num_actv_bc_tl  num_accts_ever_120_pd  mort_acc  mo_sin_rcnt_tl  \\\n",
       "0             2.0                    0.0       2.0             1.0   \n",
       "1             1.0                    0.0       7.0             4.0   \n",
       "2            14.0                    0.0       2.0             4.0   \n",
       "3             2.0                    0.0       3.0             6.0   \n",
       "4             3.0                    0.0       0.0            13.0   \n",
       "\n",
       "   mo_sin_rcnt_rev_tl_op  mo_sin_old_rev_tl_op int_rate_frac  deltat_cr  \n",
       "0                    4.0                 145.0        0.0980     4413.0  \n",
       "1                    4.0                 238.0        0.0532     7243.0  \n",
       "2                    4.0                 158.0        0.1849     4809.0  \n",
       "3                   16.0                 220.0        0.1577     6696.0  \n",
       "4                   25.0                 114.0        0.1989     3470.0  \n",
       "\n",
       "[5 rows x 65 columns]"
      ]
     },
     "execution_count": 310,
     "metadata": {},
     "output_type": "execute_result"
    }
   ],
   "source": [
    "df_ml.head()"
   ]
  },
  {
   "cell_type": "code",
   "execution_count": 311,
   "id": "4efaae55-4fea-4221-bdde-a52377037fe5",
   "metadata": {},
   "outputs": [
    {
     "data": {
      "text/plain": [
       "(420963, 65)"
      ]
     },
     "execution_count": 311,
     "metadata": {},
     "output_type": "execute_result"
    }
   ],
   "source": [
    "df_ml.dropna(inplace=True)\n",
    "df_ml.shape"
   ]
  },
  {
   "cell_type": "code",
   "execution_count": 312,
   "id": "6081517a-b118-46d6-bf95-8aecc2f8397b",
   "metadata": {},
   "outputs": [],
   "source": [
    "with open ('df-ml-imputed.pkd', 'wb') as f:\n",
    "    dill.dump(df_ml, f)"
   ]
  },
  {
   "cell_type": "code",
   "execution_count": 314,
   "id": "4a719f6d-0bb0-4831-ac47-552426ec0077",
   "metadata": {},
   "outputs": [
    {
     "data": {
      "text/plain": [
       "(array(['w', 'f'], dtype=object),\n",
       " array(['debt_consolidation', 'credit_card', 'home_improvement', 'other',\n",
       "        'car', 'small_business', 'major_purchase', 'vacation', 'house',\n",
       "        'medical', 'moving', 'renewable_energy', 'wedding', 'educational'],\n",
       "       dtype=object),\n",
       " array(['B3', 'A1', 'D5', 'D1', 'E3', 'B4', 'D2', 'A4', 'C4', 'C2', 'A2',\n",
       "        'D3', 'C1', 'C5', 'C3', 'B2', 'E2', 'E4', 'A5', 'F3', 'F2', 'D4',\n",
       "        'B1', 'B5', 'F1', 'E5', 'A3', 'F5', 'E1', 'G2', 'G1', 'G3', 'G4',\n",
       "        'F4', 'G5'], dtype=object),\n",
       " array([' 60 months', ' 36 months'], dtype=object),\n",
       " array(['Debt consolidation', 'Credit card refinancing',\n",
       "        'Home improvement', nan, 'Other', 'Car financing', 'Business',\n",
       "        'Major purchase', 'Vacation', 'Home buying', 'Medical expenses',\n",
       "        'Moving and relocation', 'Green loan', 'odymeds', 'SAVE',\n",
       "        'Learning and training', 'new day',\n",
       "        'Trying to come back to reality!', 'considerate',\n",
       "        'Paying off higher interest cards & auto',\n",
       "        'Simple Loan Until Contract Is Completed',\n",
       "        'Prescription Drug and Medical Costs', 'Pay off Lowes Card',\n",
       "        'new kitchen for momma!', 'DebtC',\n",
       "        'New Baby and New House (CC Consolidate)',\n",
       "        'Credit Card/Auto Repair', 'Student Loan'], dtype=object),\n",
       " array(['Not Verified', 'Verified', 'Source Verified'], dtype=object),\n",
       " array(['Individual', 'Joint App'], dtype=object))"
      ]
     },
     "execution_count": 314,
     "metadata": {},
     "output_type": "execute_result"
    }
   ],
   "source": [
    "df.initial_list_status.unique(), df.purpose.unique(), df.sub_grade.unique(),  df.term.unique(),  df.title.unique(), df.verification_status.unique(), df.application_type.unique(), "
   ]
  },
  {
   "cell_type": "code",
   "execution_count": 317,
   "id": "b6566c8a-e651-4253-a691-5cdadeb390f1",
   "metadata": {},
   "outputs": [
    {
     "data": {
      "text/plain": [
       "<AxesSubplot:xlabel='emp_length'>"
      ]
     },
     "execution_count": 317,
     "metadata": {},
     "output_type": "execute_result"
    },
    {
     "data": {
      "image/png": "[encoded data removed]",
      "text/plain": [
       "<Figure size 432x288 with 1 Axes>"
      ]
     },
     "metadata": {
      "needs_background": "light"
     },
     "output_type": "display_data"
    }
   ],
   "source": [
    "df.groupby('emp_length').mean()[['default']].plot(kind='bar')"
   ]
  },
  {
   "cell_type": "markdown",
   "id": "97786ec2-12db-4d3b-8f9f-0e76f1d5157a",
   "metadata": {},
   "source": [
    "### Building the charge_off model"
   ]
  },
  {
   "cell_type": "code",
   "execution_count": 13,
   "id": "845a363d-cd2c-4c0e-a930-c4c8effd8cdf",
   "metadata": {},
   "outputs": [],
   "source": [
    "from sklearn.pipeline import Pipeline\n",
    "from sklearn.compose import make_column_transformer\n",
    "from sklearn.model_selection import train_test_split\n",
    "from sklearn.preprocessing import StandardScaler, OneHotEncoder\n",
    "from sklearn.decomposition import PCA, TruncatedSVD\n",
    "\n",
    "from sklearn.linear_model import LogisticRegressionCV, RidgeClassifierCV\n",
    "from sklearn.tree import DecisionTreeClassifier\n",
    "from sklearn.ensemble import RandomForestClassifier, GradientBoostingClassifier\n",
    "from sklearn.neighbors import KNeighborsClassifier\n",
    "from sklearn.svm import LinearSVC\n",
    "from sklearn.neural_network import MLPClassifier\n",
    "\n",
    "from sklearn.metrics import accuracy_score, confusion_matrix, precision_score, recall_score\n",
    "from sklearn.model_selection import cross_val_score"
   ]
  },
  {
   "cell_type": "code",
   "execution_count": 2,
   "id": "143dfe83-d645-4200-b26d-3e1033418f52",
   "metadata": {},
   "outputs": [],
   "source": [
    "import dill\n",
    "with open('df-ml-imputed.pkd', 'rb') as f:\n",
    "    df_ml = dill.load(f)"
   ]
  },
  {
   "cell_type": "code",
   "execution_count": 5,
   "id": "ada5473f-da28-4b65-82d4-9bf07aae0150",
   "metadata": {},
   "outputs": [
    {
     "data": {
      "text/plain": [
       "0.8483429660088891"
      ]
     },
     "execution_count": 5,
     "metadata": {},
     "output_type": "execute_result"
    }
   ],
   "source": [
    "# Null-model accuracy:\n",
    "1-df_ml.default.mean()"
   ]
  },
  {
   "cell_type": "code",
   "execution_count": 6,
   "id": "19b8e777-a599-48c5-8f12-f189d5846c70",
   "metadata": {},
   "outputs": [],
   "source": [
    "# only one 'educational' value in this column - resolution: drop row\n",
    "drop_row_idx = df_ml.purpose[df_ml.purpose=='educational'].index\n",
    "df_ml.drop(index=drop_row_idx, inplace=True)"
   ]
  },
  {
   "cell_type": "code",
   "execution_count": 84,
   "id": "7a635fb0-6d67-47b8-b9a3-3b36068e3742",
   "metadata": {},
   "outputs": [],
   "source": [
    "X, y = df_ml.drop(columns=['default', 'title']), df_ml.default.copy()\n",
    "X_train, X_test, y_train, y_test = train_test_split(X, y, test_size=0.15, random_state=81)"
   ]
  },
  {
   "cell_type": "code",
   "execution_count": 85,
   "id": "9560aeda-b344-4aae-9124-df087a751629",
   "metadata": {},
   "outputs": [
    {
     "data": {
      "text/plain": [
       "(Index(['mo_sin_old_il_acct', 'percent_bc_gt_75', 'bc_util', 'bc_open_to_buy',\n",
       "        'mths_since_recent_bc', 'revol_util', 'dti', 'num_rev_accts', 'pub_rec',\n",
       "        'policy_code', 'pct_tl_nvr_dlq', 'revol_bal', 'pub_rec_bankruptcies',\n",
       "        'acc_now_delinq', 'tax_liens', 'tot_cur_bal', 'tot_hi_cred_lim',\n",
       "        'total_acc', 'total_bal_ex_mort', 'total_il_high_credit_limit',\n",
       "        'total_rev_hi_lim', 'total_bc_limit', 'num_bc_tl', 'open_acc',\n",
       "        'installment', 'inq_last_6mths', 'funded_amnt_inv', 'funded_amnt',\n",
       "        'delinq_amnt', 'delinq_2yrs', 'collections_12_mths_ex_med',\n",
       "        'chargeoff_within_12_mths', 'avg_cur_bal', 'annual_inc', 'loan_amnt',\n",
       "        'num_tl_op_past_12m', 'acc_open_past_24mths', 'num_tl_90g_dpd_24m',\n",
       "        'num_tl_30dpd', 'num_tl_120dpd_2m', 'num_sats', 'num_rev_tl_bal_gt_0',\n",
       "        'num_op_rev_tl', 'num_il_tl', 'num_bc_sats', 'num_actv_rev_tl',\n",
       "        'num_actv_bc_tl', 'num_accts_ever_120_pd', 'mort_acc', 'mo_sin_rcnt_tl',\n",
       "        'mo_sin_rcnt_rev_tl_op', 'mo_sin_old_rev_tl_op', 'int_rate_frac',\n",
       "        'deltat_cr'],\n",
       "       dtype='object'),\n",
       " Index(['purpose', 'sub_grade', 'term', 'verification_status',\n",
       "        'initial_list_status', 'home_ownership', 'grade', 'application_type',\n",
       "        'addr_state'],\n",
       "       dtype='object'))"
      ]
     },
     "execution_count": 85,
     "metadata": {},
     "output_type": "execute_result"
    }
   ],
   "source": [
    "dtypes = X.dtypes\n",
    "numeric_columns = dtypes[dtypes.isin(['float64', 'int64'])].index\n",
    "text_columns = X.columns[~X.columns.isin(numeric_columns)]\n",
    "numeric_columns, text_columns"
   ]
  },
  {
   "cell_type": "markdown",
   "id": "acd43544-eccb-4a6a-8b39-0e06d0743012",
   "metadata": {},
   "source": [
    "Prelim comparison of several classifiers for predicting loan default:"
   ]
  },
  {
   "cell_type": "code",
   "execution_count": 86,
   "id": "9fecd3b5-8982-462b-bfb3-76b39f7d158d",
   "metadata": {},
   "outputs": [],
   "source": [
    "col_trans = make_column_transformer(\n",
    "                    (OneHotEncoder(), text_columns),\n",
    "                    (StandardScaler(), numeric_columns),\n",
    "                    remainder='drop'    \n",
    "                                    )"
   ]
  },
  {
   "cell_type": "code",
   "execution_count": 10,
   "id": "4d9b8176-cac2-42aa-a6e3-9d9e9c34fb1d",
   "metadata": {},
   "outputs": [],
   "source": [
    "models_dict = {'logreg': LogisticRegressionCV(n_jobs=-2, multi_class='ovr', random_state=81),\n",
    "               'rccv': RidgeClassifierCV(),\n",
    "               'dtc': DecisionTreeClassifier(min_samples_split=10, random_state=81),\n",
    "               'rfc': RandomForestClassifier(min_samples_split=10, max_depth=5, max_features='sqrt', n_jobs=-2, random_state=81, warm_start=True),\n",
    "               'gbc': GradientBoostingClassifier(min_samples_split=10, max_depth=10, random_state=81, warm_start=True),\n",
    "               'knnc': KNeighborsClassifier(n_neighbors=50, weights='distance',n_jobs=-2),\n",
    "               'svc': LinearSVC(dual=False, C=0.5, class_weight='balanced', random_state=81, max_iter=100),\n",
    "               'mlpc': MLPClassifier(hidden_layer_sizes=(100, 50, 10), max_iter=100, random_state=81, warm_start=True, early_stopping=True)\n",
    "              }"
   ]
  },
  {
   "cell_type": "code",
   "execution_count": 11,
   "id": "0fb471bf-8d29-47d0-bf18-dbd4aff68457",
   "metadata": {},
   "outputs": [
    {
     "name": "stdout",
     "output_type": "stream",
     "text": [
      "model <<logreg>> mean roc_auc on training data: 0.7060713512255783 - prediction accuracy on test data: 0.8466545252989152\n",
      "model <<rccv>> mean roc_auc on training data: 0.7054832547690391 - prediction accuracy on test data: 0.8465595058991211\n",
      "model <<dtc>> mean roc_auc on training data: 0.5445491909634825 - prediction accuracy on test data: 0.7546282365983055\n",
      "model <<rfc>> mean roc_auc on training data: 0.6891966930748149 - prediction accuracy on test data: 0.8465595058991211\n",
      "model <<gbc>> mean roc_auc on training data: 0.6980764952658569 - prediction accuracy on test data: 0.8457360044342387\n",
      "model <<knnc>> mean roc_auc on training data: 0.6810502443028205 - prediction accuracy on test data: 0.8465753424657534\n",
      "model <<svc>> mean roc_auc on training data: 0.7066513416641879 - prediction accuracy on test data: 0.6349988122575025\n",
      "model <<mlpc>> mean roc_auc on training data: 0.7088953373399165 - prediction accuracy on test data: 0.8467970543986064\n",
      "Wall time: 7h 18min 33s\n"
     ]
    }
   ],
   "source": [
    "%%time\n",
    "for model_id, model in models_dict.items():\n",
    "    pipe = Pipeline([\n",
    "                            ('col_tr', col_trans),\n",
    "                            #('tr_svd', TruncatedSVD(n_components=15)),\n",
    "                            ('pca', PCA(n_components=0.95)),\n",
    "                            (model_id, model)\n",
    "    ])\n",
    "    \n",
    "    mean_cv_score = cross_val_score(pipe, X_train, y_train, cv=5, scoring='roc_auc').mean()\n",
    "    pipe.fit(X_train, y_train)\n",
    "    acc = accuracy_score(y_test, pipe.predict(X_test))\n",
    "    print(f'model <<{model_id}>> mean roc_auc on training data: {mean_cv_score} - prediction accuracy on test data: {acc}')"
   ]
  },
  {
   "cell_type": "code",
   "execution_count": 49,
   "id": "b8f6b533-10b5-46dc-b4b7-7a7600ff5638",
   "metadata": {},
   "outputs": [
    {
     "name": "stdout",
     "output_type": "stream",
     "text": [
      "Wall time: 42.5 s\n"
     ]
    },
    {
     "data": {
      "text/plain": [
       "0.7043437235582395"
      ]
     },
     "execution_count": 49,
     "metadata": {},
     "output_type": "execute_result"
    }
   ],
   "source": [
    "%%time\n",
    "\n",
    "pipe_lr = Pipeline([\n",
    "                        ('col_tr', col_trans),\n",
    "                        #('tr_svd', TruncatedSVD(n_components=30)),\n",
    "                        ('pca', PCA(n_components=0.99)),\n",
    "                        ('lr', LogisticRegressionCV(n_jobs=-2, multi_class='ovr', random_state=81))\n",
    "])\n",
    "\n",
    "cross_val_score(pipe_lr, X_train, y_train, cv=5, scoring='roc_auc').mean()"
   ]
  },
  {
   "cell_type": "code",
   "execution_count": 50,
   "id": "2786d73d-9122-4542-8d7d-526182bd0a6f",
   "metadata": {},
   "outputs": [
    {
     "data": {
      "text/plain": [
       "(0.8467495446987093,\n",
       " 0.5263157894736842,\n",
       " 0.012385179069047373,\n",
       " array([[53348,   108],\n",
       "        [ 9569,   120]], dtype=int64))"
      ]
     },
     "execution_count": 50,
     "metadata": {},
     "output_type": "execute_result"
    }
   ],
   "source": [
    "pipe_lr.fit(X_train, y_train)\n",
    "accuracy_score(y_test, pipe_lr.predict(X_test)), precision_score(y_test, pipe_lr.predict(X_test)), recall_score(y_test, pipe_lr.predict(X_test)), confusion_matrix(y_test, pipe_lr.predict(X_test))"
   ]
  },
  {
   "cell_type": "code",
   "execution_count": 51,
   "id": "d60d8c3f-fa61-4080-a4f8-d610a1939a5b",
   "metadata": {},
   "outputs": [
    {
     "data": {
      "text/plain": [
       "(array([[53348,   108],\n",
       "        [ 9569,   120]], dtype=int64),\n",
       " array([[303005,    659],\n",
       "        [ 53542,    611]], dtype=int64))"
      ]
     },
     "execution_count": 51,
     "metadata": {},
     "output_type": "execute_result"
    }
   ],
   "source": [
    "confusion_matrix(y_test, pipe_lr.predict(X_test)), confusion_matrix(y_train, pipe_lr.predict(X_train))"
   ]
  },
  {
   "cell_type": "code",
   "execution_count": 345,
   "id": "e0bc157a-1649-41c6-9ca2-289a52132c3a",
   "metadata": {},
   "outputs": [
    {
     "name": "stdout",
     "output_type": "stream",
     "text": [
      "Wall time: 21.3 s\n"
     ]
    },
    {
     "data": {
      "text/plain": [
       "0.6971120979539964"
      ]
     },
     "execution_count": 345,
     "metadata": {},
     "output_type": "execute_result"
    }
   ],
   "source": [
    "%%time\n",
    "\n",
    "pipe_rccv = Pipeline([\n",
    "                        ('col_tr', col_trans),\n",
    "                        ('tr_svd', TruncatedSVD(n_components=15)),\n",
    "                        ('rccv', RidgeClassifierCV())\n",
    "])\n",
    "\n",
    "cross_val_score(pipe_rccv, X_train, y_train, cv=5, scoring='roc_auc').mean()"
   ]
  },
  {
   "cell_type": "code",
   "execution_count": 52,
   "id": "39829010-f49c-420d-b3d0-475a88149cf9",
   "metadata": {},
   "outputs": [
    {
     "name": "stdout",
     "output_type": "stream",
     "text": [
      "Wall time: 20.4 s\n"
     ]
    },
    {
     "data": {
      "text/plain": [
       "(0.7568928656267321,\n",
       " 0.21519114688128774,\n",
       " 0.22076581690576944,\n",
       " array([[45655,  7801],\n",
       "        [ 7550,  2139]], dtype=int64))"
      ]
     },
     "execution_count": 52,
     "metadata": {},
     "output_type": "execute_result"
    }
   ],
   "source": [
    "%%time\n",
    "\n",
    "pipe_dtc = Pipeline([\n",
    "                        ('col_tr', col_trans),\n",
    "                        ('dtc', DecisionTreeClassifier(criterion='entropy', min_samples_split=5, random_state=81))\n",
    "])\n",
    "\n",
    "# cross_val_score(pipe_dtc, X_train, y_train, cv=5, scoring='roc_auc').mean()\n",
    "pipe_dtc.fit(X_train, y_train)\n",
    "y_pred = pipe_dtc.predict(X_test)\n",
    "accuracy_score(y_test, y_pred), precision_score(y_test, y_pred), recall_score(y_test, y_pred), confusion_matrix(y_test, y_pred)"
   ]
  },
  {
   "cell_type": "code",
   "execution_count": 87,
   "id": "d74ba8ca-b7f5-41ef-8c36-3fc785f901ad",
   "metadata": {},
   "outputs": [
    {
     "name": "stdout",
     "output_type": "stream",
     "text": [
      "Wall time: 21min 25s\n"
     ]
    },
    {
     "data": {
      "text/plain": [
       "(0.846781217831974,\n",
       " 0.512962962962963,\n",
       " 0.028589121684384353,\n",
       " array([[53193,   263],\n",
       "        [ 9412,   277]], dtype=int64))"
      ]
     },
     "execution_count": 87,
     "metadata": {},
     "output_type": "execute_result"
    }
   ],
   "source": [
    "%%time\n",
    "\n",
    "pipe_mlpc = Pipeline([\n",
    "                        ('col_tr', col_trans),\n",
    "                        ('dtc', MLPClassifier(hidden_layer_sizes=(1000, 500, 100, 10), max_iter=500, random_state=81, warm_start=True, early_stopping=True))\n",
    "])\n",
    "\n",
    "# cross_val_score(pipe_dtc, X_train, y_train, cv=5, scoring='roc_auc').mean()\n",
    "pipe_mlpc.fit(X_train, y_train)\n",
    "y_pred = pipe_mlpc.predict(X_test)\n",
    "accuracy_score(y_test, y_pred), precision_score(y_test, y_pred), recall_score(y_test, y_pred), confusion_matrix(y_test, y_pred)"
   ]
  },
  {
   "cell_type": "code",
   "execution_count": 53,
   "id": "d6aad1ab-0dd2-4777-a823-75e2fcaa67d6",
   "metadata": {},
   "outputs": [],
   "source": [
    "feat_importances = pipe_dtc.steps[-1][1].feature_importances_"
   ]
  },
  {
   "cell_type": "code",
   "execution_count": 57,
   "id": "d045e0ec-a7c0-458c-92ff-ae9ba5adc208",
   "metadata": {},
   "outputs": [
    {
     "data": {
      "text/plain": [
       "Int64Index([52,  6,  0, 32,  5, 16, 33, 51, 53, 11,  3,  2,  4, 20, 24, 21, 19,\n",
       "            18, 15, 17,  7, 50, 43, 10, 49, 22, 36,  1, 42, 44, 26, 48, 46, 27,\n",
       "            45, 35, 41, 40, 34, 23, 25, 47, 29,  8, 12, 37, 14, 30, 31, 28, 13,\n",
       "            38, 39,  9],\n",
       "           dtype='int64')"
      ]
     },
     "execution_count": 57,
     "metadata": {},
     "output_type": "execute_result"
    }
   ],
   "source": [
    "#finding the most important features\n",
    "s_feat_imps = pd.Series(feat_importances)\n",
    "top_feats_inds = s_feat_imps.sort_values(ascending=False).index\n",
    "top_feats_inds"
   ]
  },
  {
   "cell_type": "code",
   "execution_count": 63,
   "id": "73b1c202-9bab-412d-8dee-50072c35c148",
   "metadata": {},
   "outputs": [
    {
     "name": "stdout",
     "output_type": "stream",
     "text": [
      "index-52, importance: 0.085 - feature: int_rate_frac\n",
      "index-6, importance: 0.044 - feature: dti\n",
      "index-0, importance: 0.038 - feature: mo_sin_old_il_acct\n",
      "index-32, importance: 0.038 - feature: avg_cur_bal\n",
      "index-5, importance: 0.036 - feature: revol_util\n",
      "index-16, importance: 0.036 - feature: tot_hi_cred_lim\n",
      "index-33, importance: 0.035 - feature: annual_inc\n",
      "index-51, importance: 0.034 - feature: mo_sin_old_rev_tl_op\n",
      "index-53, importance: 0.033 - feature: deltat_cr\n",
      "index-11, importance: 0.033 - feature: revol_bal\n",
      "index-3, importance: 0.031 - feature: bc_open_to_buy\n",
      "index-2, importance: 0.030 - feature: bc_util\n",
      "index-4, importance: 0.030 - feature: mths_since_recent_bc\n",
      "index-20, importance: 0.030 - feature: total_rev_hi_lim\n",
      "index-24, importance: 0.030 - feature: installment\n",
      "index-21, importance: 0.029 - feature: total_bc_limit\n",
      "index-19, importance: 0.029 - feature: total_il_high_credit_limit\n",
      "index-18, importance: 0.027 - feature: total_bal_ex_mort\n",
      "index-15, importance: 0.026 - feature: tot_cur_bal\n",
      "index-17, importance: 0.022 - feature: total_acc\n",
      "index-7, importance: 0.021 - feature: num_rev_accts\n",
      "index-50, importance: 0.020 - feature: mo_sin_rcnt_rev_tl_op\n",
      "index-43, importance: 0.020 - feature: num_il_tl\n",
      "index-10, importance: 0.020 - feature: pct_tl_nvr_dlq\n",
      "index-49, importance: 0.019 - feature: mo_sin_rcnt_tl\n",
      "index-22, importance: 0.019 - feature: num_bc_tl\n",
      "index-36, importance: 0.016 - feature: acc_open_past_24mths\n",
      "index-1, importance: 0.014 - feature: percent_bc_gt_75\n",
      "index-42, importance: 0.012 - feature: num_op_rev_tl\n",
      "index-44, importance: 0.012 - feature: num_bc_sats\n",
      "index-26, importance: 0.012 - feature: funded_amnt_inv\n",
      "index-48, importance: 0.011 - feature: mort_acc\n",
      "index-46, importance: 0.010 - feature: num_actv_bc_tl\n",
      "index-27, importance: 0.010 - feature: funded_amnt\n",
      "index-45, importance: 0.010 - feature: num_actv_rev_tl\n",
      "index-35, importance: 0.010 - feature: num_tl_op_past_12m\n",
      "index-41, importance: 0.010 - feature: num_rev_tl_bal_gt_0\n",
      "index-40, importance: 0.009 - feature: num_sats\n",
      "index-34, importance: 0.009 - feature: loan_amnt\n",
      "index-23, importance: 0.009 - feature: open_acc\n",
      "index-25, importance: 0.008 - feature: inq_last_6mths\n",
      "index-47, importance: 0.006 - feature: num_accts_ever_120_pd\n",
      "index-29, importance: 0.006 - feature: delinq_2yrs\n",
      "index-8, importance: 0.003 - feature: pub_rec\n",
      "index-12, importance: 0.002 - feature: pub_rec_bankruptcies\n",
      "index-37, importance: 0.002 - feature: num_tl_90g_dpd_24m\n",
      "index-14, importance: 0.001 - feature: tax_liens\n",
      "index-30, importance: 0.001 - feature: collections_12_mths_ex_med\n",
      "index-31, importance: 0.000 - feature: chargeoff_within_12_mths\n",
      "index-28, importance: 0.000 - feature: delinq_amnt\n",
      "index-13, importance: 0.000 - feature: acc_now_delinq\n",
      "index-38, importance: 0.000 - feature: num_tl_30dpd\n",
      "index-39, importance: 0.000 - feature: num_tl_120dpd_2m\n",
      "index-9, importance: 0.000 - feature: policy_code\n"
     ]
    }
   ],
   "source": [
    "for idx, imp in s_feat_imps.sort_values(ascending=False).iteritems():\n",
    "    print(f'index-{idx}, importance: {imp:.3f} - feature: {numeric_columns[idx]}')"
   ]
  },
  {
   "cell_type": "code",
   "execution_count": 80,
   "id": "69cc9829-61a0-4e42-8d1e-7991939961f4",
   "metadata": {},
   "outputs": [],
   "source": [
    "# building a logistic regression model using only the top 10 most important numeric features\n",
    "X_30 = X[numeric_columns[top_feats_inds[:30]]]\n",
    "X_30_train, X_30_test, y_train, y_test = train_test_split(X_30, y, test_size=0.15, random_state=81)"
   ]
  },
  {
   "cell_type": "code",
   "execution_count": 81,
   "id": "739aee6b-b69f-43a4-b3f6-e57850050620",
   "metadata": {},
   "outputs": [
    {
     "data": {
      "text/html": [
       "<div>\n",
       "<style scoped>\n",
       "    .dataframe tbody tr th:only-of-type {\n",
       "        vertical-align: middle;\n",
       "    }\n",
       "\n",
       "    .dataframe tbody tr th {\n",
       "        vertical-align: top;\n",
       "    }\n",
       "\n",
       "    .dataframe thead th {\n",
       "        text-align: right;\n",
       "    }\n",
       "</style>\n",
       "<table border=\"1\" class=\"dataframe\">\n",
       "  <thead>\n",
       "    <tr style=\"text-align: right;\">\n",
       "      <th></th>\n",
       "      <th>int_rate_frac</th>\n",
       "      <th>dti</th>\n",
       "      <th>mo_sin_old_il_acct</th>\n",
       "      <th>avg_cur_bal</th>\n",
       "      <th>revol_util</th>\n",
       "      <th>tot_hi_cred_lim</th>\n",
       "      <th>annual_inc</th>\n",
       "      <th>mo_sin_old_rev_tl_op</th>\n",
       "      <th>deltat_cr</th>\n",
       "      <th>revol_bal</th>\n",
       "      <th>...</th>\n",
       "      <th>num_rev_accts</th>\n",
       "      <th>mo_sin_rcnt_rev_tl_op</th>\n",
       "      <th>num_il_tl</th>\n",
       "      <th>pct_tl_nvr_dlq</th>\n",
       "      <th>mo_sin_rcnt_tl</th>\n",
       "      <th>num_bc_tl</th>\n",
       "      <th>acc_open_past_24mths</th>\n",
       "      <th>percent_bc_gt_75</th>\n",
       "      <th>num_op_rev_tl</th>\n",
       "      <th>num_bc_sats</th>\n",
       "    </tr>\n",
       "  </thead>\n",
       "  <tbody>\n",
       "    <tr>\n",
       "      <th>0</th>\n",
       "      <td>0.0980</td>\n",
       "      <td>23.84</td>\n",
       "      <td>127.0</td>\n",
       "      <td>10086.0</td>\n",
       "      <td>0.134</td>\n",
       "      <td>291626.0</td>\n",
       "      <td>65000.0</td>\n",
       "      <td>145.0</td>\n",
       "      <td>4413.0</td>\n",
       "      <td>9786.0</td>\n",
       "      <td>...</td>\n",
       "      <td>22.0</td>\n",
       "      <td>4.0</td>\n",
       "      <td>13.0</td>\n",
       "      <td>100.0</td>\n",
       "      <td>1.0</td>\n",
       "      <td>10.0</td>\n",
       "      <td>8.0</td>\n",
       "      <td>0.0</td>\n",
       "      <td>11.0</td>\n",
       "      <td>5.0</td>\n",
       "    </tr>\n",
       "    <tr>\n",
       "      <th>1</th>\n",
       "      <td>0.0532</td>\n",
       "      <td>9.54</td>\n",
       "      <td>166.0</td>\n",
       "      <td>61551.0</td>\n",
       "      <td>0.425</td>\n",
       "      <td>512381.0</td>\n",
       "      <td>150000.0</td>\n",
       "      <td>238.0</td>\n",
       "      <td>7243.0</td>\n",
       "      <td>19339.0</td>\n",
       "      <td>...</td>\n",
       "      <td>7.0</td>\n",
       "      <td>4.0</td>\n",
       "      <td>4.0</td>\n",
       "      <td>100.0</td>\n",
       "      <td>4.0</td>\n",
       "      <td>3.0</td>\n",
       "      <td>1.0</td>\n",
       "      <td>0.0</td>\n",
       "      <td>4.0</td>\n",
       "      <td>3.0</td>\n",
       "    </tr>\n",
       "    <tr>\n",
       "      <th>2</th>\n",
       "      <td>0.1849</td>\n",
       "      <td>31.88</td>\n",
       "      <td>143.0</td>\n",
       "      <td>7176.0</td>\n",
       "      <td>0.519</td>\n",
       "      <td>267312.0</td>\n",
       "      <td>75000.0</td>\n",
       "      <td>158.0</td>\n",
       "      <td>4809.0</td>\n",
       "      <td>43413.0</td>\n",
       "      <td>...</td>\n",
       "      <td>34.0</td>\n",
       "      <td>4.0</td>\n",
       "      <td>9.0</td>\n",
       "      <td>100.0</td>\n",
       "      <td>4.0</td>\n",
       "      <td>18.0</td>\n",
       "      <td>8.0</td>\n",
       "      <td>50.0</td>\n",
       "      <td>24.0</td>\n",
       "      <td>14.0</td>\n",
       "    </tr>\n",
       "    <tr>\n",
       "      <th>3</th>\n",
       "      <td>0.1577</td>\n",
       "      <td>18.50</td>\n",
       "      <td>118.0</td>\n",
       "      <td>51015.0</td>\n",
       "      <td>0.503</td>\n",
       "      <td>447599.0</td>\n",
       "      <td>175000.0</td>\n",
       "      <td>220.0</td>\n",
       "      <td>6696.0</td>\n",
       "      <td>21831.0</td>\n",
       "      <td>...</td>\n",
       "      <td>11.0</td>\n",
       "      <td>16.0</td>\n",
       "      <td>9.0</td>\n",
       "      <td>95.7</td>\n",
       "      <td>6.0</td>\n",
       "      <td>7.0</td>\n",
       "      <td>7.0</td>\n",
       "      <td>33.3</td>\n",
       "      <td>4.0</td>\n",
       "      <td>3.0</td>\n",
       "    </tr>\n",
       "    <tr>\n",
       "      <th>5</th>\n",
       "      <td>0.1078</td>\n",
       "      <td>14.01</td>\n",
       "      <td>156.0</td>\n",
       "      <td>3068.0</td>\n",
       "      <td>0.518</td>\n",
       "      <td>92909.0</td>\n",
       "      <td>104000.0</td>\n",
       "      <td>181.0</td>\n",
       "      <td>5508.0</td>\n",
       "      <td>28475.0</td>\n",
       "      <td>...</td>\n",
       "      <td>23.0</td>\n",
       "      <td>8.0</td>\n",
       "      <td>7.0</td>\n",
       "      <td>96.8</td>\n",
       "      <td>8.0</td>\n",
       "      <td>12.0</td>\n",
       "      <td>1.0</td>\n",
       "      <td>33.3</td>\n",
       "      <td>13.0</td>\n",
       "      <td>6.0</td>\n",
       "    </tr>\n",
       "  </tbody>\n",
       "</table>\n",
       "<p>5 rows × 30 columns</p>\n",
       "</div>"
      ],
      "text/plain": [
       "   int_rate_frac    dti  mo_sin_old_il_acct  avg_cur_bal  revol_util  \\\n",
       "0         0.0980  23.84               127.0      10086.0       0.134   \n",
       "1         0.0532   9.54               166.0      61551.0       0.425   \n",
       "2         0.1849  31.88               143.0       7176.0       0.519   \n",
       "3         0.1577  18.50               118.0      51015.0       0.503   \n",
       "5         0.1078  14.01               156.0       3068.0       0.518   \n",
       "\n",
       "   tot_hi_cred_lim  annual_inc  mo_sin_old_rev_tl_op  deltat_cr  revol_bal  \\\n",
       "0         291626.0     65000.0                 145.0     4413.0     9786.0   \n",
       "1         512381.0    150000.0                 238.0     7243.0    19339.0   \n",
       "2         267312.0     75000.0                 158.0     4809.0    43413.0   \n",
       "3         447599.0    175000.0                 220.0     6696.0    21831.0   \n",
       "5          92909.0    104000.0                 181.0     5508.0    28475.0   \n",
       "\n",
       "   ...  num_rev_accts  mo_sin_rcnt_rev_tl_op  num_il_tl  pct_tl_nvr_dlq  \\\n",
       "0  ...           22.0                    4.0       13.0           100.0   \n",
       "1  ...            7.0                    4.0        4.0           100.0   \n",
       "2  ...           34.0                    4.0        9.0           100.0   \n",
       "3  ...           11.0                   16.0        9.0            95.7   \n",
       "5  ...           23.0                    8.0        7.0            96.8   \n",
       "\n",
       "   mo_sin_rcnt_tl  num_bc_tl  acc_open_past_24mths  percent_bc_gt_75  \\\n",
       "0             1.0       10.0                   8.0               0.0   \n",
       "1             4.0        3.0                   1.0               0.0   \n",
       "2             4.0       18.0                   8.0              50.0   \n",
       "3             6.0        7.0                   7.0              33.3   \n",
       "5             8.0       12.0                   1.0              33.3   \n",
       "\n",
       "   num_op_rev_tl  num_bc_sats  \n",
       "0           11.0          5.0  \n",
       "1            4.0          3.0  \n",
       "2           24.0         14.0  \n",
       "3            4.0          3.0  \n",
       "5           13.0          6.0  \n",
       "\n",
       "[5 rows x 30 columns]"
      ]
     },
     "execution_count": 81,
     "metadata": {},
     "output_type": "execute_result"
    }
   ],
   "source": [
    "X_10.head()"
   ]
  },
  {
   "cell_type": "code",
   "execution_count": 82,
   "id": "2770272e-b725-4395-9f3e-e3619e837f5a",
   "metadata": {},
   "outputs": [
    {
     "name": "stdout",
     "output_type": "stream",
     "text": [
      "Wall time: 57.8 s\n"
     ]
    },
    {
     "data": {
      "text/plain": [
       "0.7033419742055352"
      ]
     },
     "execution_count": 82,
     "metadata": {},
     "output_type": "execute_result"
    }
   ],
   "source": [
    "%%time\n",
    "\n",
    "pipe_lr_30 = Pipeline([\n",
    "                        ('stdsc', StandardScaler()),\n",
    "                        ('lr', LogisticRegressionCV(n_jobs=-2, multi_class='ovr', random_state=81))\n",
    "])\n",
    "\n",
    "cross_val_score(pipe_lr_30, X_30_train, y_train, cv=5, scoring='roc_auc').mean()"
   ]
  },
  {
   "cell_type": "code",
   "execution_count": 83,
   "id": "e49dd8c4-ac9c-49ad-bd32-2b5115baf82f",
   "metadata": {},
   "outputs": [
    {
     "data": {
      "text/plain": [
       "(0.8466386887322829,\n",
       " 0.5120772946859904,\n",
       " 0.010940241510991846,\n",
       " array([[53355,   101],\n",
       "        [ 9583,   106]], dtype=int64))"
      ]
     },
     "execution_count": 83,
     "metadata": {},
     "output_type": "execute_result"
    }
   ],
   "source": [
    "pipe_lr_30.fit(X_30_train, y_train)\n",
    "y_pred = pipe_lr_30.predict(X_30_test)\n",
    "accuracy_score(y_test, y_pred), precision_score(y_test, y_pred), recall_score(y_test, y_pred), confusion_matrix(y_test, y_pred)"
   ]
  }
 ],
 "metadata": {
  "kernelspec": {
   "display_name": "Python 3 (ipykernel)",
   "language": "python",
   "name": "python3"
  },
  "language_info": {
   "codemirror_mode": {
    "name": "ipython",
    "version": 3
   },
   "file_extension": ".py",
   "mimetype": "text/x-python",
   "name": "python",
   "nbconvert_exporter": "python",
   "pygments_lexer": "ipython3",
   "version": "3.8.3"
  }
 },
 "nbformat": 4,
 "nbformat_minor": 5
}
